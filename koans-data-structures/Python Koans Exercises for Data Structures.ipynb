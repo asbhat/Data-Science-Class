{
 "metadata": {
  "name": "",
  "signature": "sha256:850335d32b28836b470e6892d743f0f1b48106d55b6df8bb197accc7991f35b4"
 },
 "nbformat": 3,
 "nbformat_minor": 0,
 "worksheets": [
  {
   "cells": [
    {
     "cell_type": "heading",
     "level": 1,
     "metadata": {},
     "source": [
      "Python Koans Exercises for Data Structures"
     ]
    },
    {
     "cell_type": "heading",
     "level": 2,
     "metadata": {},
     "source": [
      "Instructions"
     ]
    },
    {
     "cell_type": "code",
     "collapsed": false,
     "input": [
      "\"\"\"\n",
      "replace the __ with \n",
      "an equality operator (like == or !=) \n",
      "or if there is none\n",
      "with what makes the equality operator true\n",
      "\"\"\""
     ],
     "language": "python",
     "metadata": {},
     "outputs": []
    },
    {
     "cell_type": "heading",
     "level": 2,
     "metadata": {},
     "source": [
      "Lists"
     ]
    },
    {
     "cell_type": "code",
     "collapsed": false,
     "input": [
      "# creating lists\n",
      "\n",
      "empty_list = list()\n",
      "assert __ == type(empty_list)\n",
      "assert __ == len(empty_list)"
     ],
     "language": "python",
     "metadata": {},
     "outputs": [],
     "prompt_number": 2
    },
    {
     "cell_type": "code",
     "collapsed": false,
     "input": [
      "# list literals\n",
      "\n",
      "nums = list()\n",
      "assert __ == nums\n",
      "\n",
      "nums[0:] = [1]\n",
      "assert __ == nums\n",
      "\n",
      "nums[1:] = [2]\n",
      "assert [1, __] == nums\n",
      "\n",
      "nums.append(333)\n",
      "assert [1, 2, __] == nums"
     ],
     "language": "python",
     "metadata": {},
     "outputs": [],
     "prompt_number": 3
    },
    {
     "cell_type": "code",
     "collapsed": false,
     "input": [
      "# accessing list elements\n",
      "\n",
      "noms = ['peanut', 'butter', 'and', 'jelly']\n",
      "\n",
      "assert __ == noms[0]\n",
      "assert __ == noms[3]\n",
      "assert __ == noms[-1]\n",
      "assert __ == noms[-3]"
     ],
     "language": "python",
     "metadata": {},
     "outputs": [],
     "prompt_number": 9
    },
    {
     "cell_type": "code",
     "collapsed": false,
     "input": [
      "# slicing lists\n",
      "\n",
      "noms = ['peanut', 'butter', 'and', 'jelly']\n",
      "\n",
      "assert __ == noms[0:1]\n",
      "assert __ == noms[0:2]\n",
      "assert __ == noms[2:2]\n",
      "assert __ == noms[2:20]\n",
      "assert __ == noms[4:0]\n",
      "assert __ == noms[4:100]\n",
      "assert __ == noms[5:0]\n"
     ],
     "language": "python",
     "metadata": {},
     "outputs": []
    },
    {
     "cell_type": "code",
     "collapsed": false,
     "input": [
      "# slicing to the edge\n",
      "\n",
      "noms = ['peanut', 'butter', 'and', 'jelly']\n",
      "\n",
      "assert __ == noms[2:]\n",
      "assert __ == noms[:2]"
     ],
     "language": "python",
     "metadata": {},
     "outputs": []
    },
    {
     "cell_type": "code",
     "collapsed": false,
     "input": [
      "# lists and ranges\n",
      "assert __ == type(range(5))\n",
      "assert __ == range(5)\n",
      "assert __ == range(5, 9)"
     ],
     "language": "python",
     "metadata": {},
     "outputs": []
    },
    {
     "cell_type": "code",
     "collapsed": false,
     "input": [
      "# ranges with steps\n",
      "assert __ == range(0, 8, 2)\n",
      "assert __ == range(1, 8, 3)\n",
      "assert __ == range(5, -7, -4)\n",
      "assert __ == range(5, -8, -4)"
     ],
     "language": "python",
     "metadata": {},
     "outputs": []
    },
    {
     "cell_type": "code",
     "collapsed": false,
     "input": [
      "# insertions\n",
      "knight = ['you', 'shall', 'pass']\n",
      "knight.insert(2, 'not')\n",
      "assert __ == knight\n",
      "\n",
      "knight.insert(0, 'Arthur')\n",
      "assert __ == knight"
     ],
     "language": "python",
     "metadata": {},
     "outputs": []
    },
    {
     "cell_type": "code",
     "collapsed": false,
     "input": [
      "# popping lists\n",
      "stack = [10, 20, 30, 40]\n",
      "stack.append('last')\n",
      "\n",
      "assert __ == stack\n",
      "\n",
      "popped_value = stack.pop()\n",
      "assert __ == popped_value\n",
      "assert __ == stack\n",
      "\n",
      "popped_value = stack.pop(1)\n",
      "assert __ == popped_value\n",
      "assert __ == stack\n",
      "\n",
      "# Notice that there is a \"pop\" but no \"push\" in python?\n",
      "\n",
      "# Part of the Python philosophy is that there ideally should be one and\n",
      "# only one way of doing anything. A 'push' is the same as an 'append'.\n",
      "\n",
      "# To learn more about this try typing \"import this\" from the python\n",
      "# console... ;)"
     ],
     "language": "python",
     "metadata": {},
     "outputs": []
    },
    {
     "cell_type": "code",
     "collapsed": false,
     "input": [
      "# use deques for making queues\n",
      "from collections import deque\n",
      "\n",
      "queue = deque([1, 2])\n",
      "queue.append('last')\n",
      "\n",
      "assert __ == list(queue)\n",
      "\n",
      "popped_value = queue.popleft()\n",
      "assert __ == popped_value\n",
      "assert __ == list(queue)"
     ],
     "language": "python",
     "metadata": {},
     "outputs": []
    },
    {
     "cell_type": "heading",
     "level": 2,
     "metadata": {},
     "source": [
      "List Assignments"
     ]
    },
    {
     "cell_type": "code",
     "collapsed": false,
     "input": [
      "# non parallel assignment\n",
      "names = [\"John\", \"Smith\"]\n",
      "assert __ == names"
     ],
     "language": "python",
     "metadata": {},
     "outputs": []
    },
    {
     "cell_type": "code",
     "collapsed": false,
     "input": [
      "# parallel assignments\n",
      "first_name, last_name = [\"John\", \"Smith\"]\n",
      "assert __ == first_name\n",
      "assert __ == last_name"
     ],
     "language": "python",
     "metadata": {},
     "outputs": []
    },
    {
     "cell_type": "code",
     "collapsed": false,
     "input": [
      "# parallel assignments with sublists\n",
      "first_name, last_name = [[\"Willie\", \"Rae\"], \"Johnson\"]\n",
      "assert __ == first_name\n",
      "assert __ == last_name"
     ],
     "language": "python",
     "metadata": {},
     "outputs": []
    },
    {
     "cell_type": "code",
     "collapsed": false,
     "input": [
      "# swapping with parallel assignment\n",
      "first_name = \"Roy\"\n",
      "last_name = \"Rob\"\n",
      "first_name, last_name = last_name, first_name\n",
      "assert __ == first_name\n",
      "assert __ == last_name"
     ],
     "language": "python",
     "metadata": {},
     "outputs": []
    },
    {
     "cell_type": "heading",
     "level": 2,
     "metadata": {},
     "source": [
      "Dictionaries"
     ]
    },
    {
     "cell_type": "code",
     "collapsed": false,
     "input": [
      "# creating dictionaries\n",
      "empty_dict = dict()\n",
      "assert __ == type(empty_dict)\n",
      "assert __ == empty_dict\n",
      "assert __ == len(empty_dict)"
     ],
     "language": "python",
     "metadata": {},
     "outputs": []
    },
    {
     "cell_type": "code",
     "collapsed": false,
     "input": [
      "# dictionary literals\n",
      "empty_dict = {}\n",
      "assert __ == type(empty_dict)\n",
      "babel_fish = {'one': 'uno', 'two': 'dos'}\n",
      "assert __ == len(babel_fish)"
     ],
     "language": "python",
     "metadata": {},
     "outputs": []
    },
    {
     "cell_type": "code",
     "collapsed": false,
     "input": [
      "# accessing dictionaries\n",
      "babel_fish = {'one': 'uno', 'two': 'dos'}\n",
      "assert __ == babel_fish['one']\n",
      "assert __ == babel_fish['two']"
     ],
     "language": "python",
     "metadata": {},
     "outputs": []
    },
    {
     "cell_type": "code",
     "collapsed": false,
     "input": [
      "# changing dictionaries\n",
      "babel_fish = {'one': 'uno', 'two': 'dos'}\n",
      "babel_fish['one'] = 'eins'\n",
      "\n",
      "expected = {'two': 'dos', 'one': __}\n",
      "assert expected[__] == babel_fish"
     ],
     "language": "python",
     "metadata": {},
     "outputs": []
    },
    {
     "cell_type": "code",
     "collapsed": false,
     "input": [
      "# dictionary is unordered\n",
      "dict1 = {'one': 'uno', 'two': 'dos'}\n",
      "dict2 = {'two': 'dos', 'one': 'uno'}\n",
      "\n",
      "assert __ == (dict1 == dict2)"
     ],
     "language": "python",
     "metadata": {},
     "outputs": []
    },
    {
     "cell_type": "code",
     "collapsed": false,
     "input": [
      "# dictionary keys and values\n",
      "babel_fish = {'one': 'uno', 'two': 'dos'}\n",
      "assert __ == (len(babel_fish.keys()))\n",
      "assert __ == (len(babel_fish.values()))\n",
      "assert __ == ('one' in babel_fish.keys())\n",
      "assert __ == ('two' in babel_fish.values())\n",
      "assert __ == ('uno' in babel_fish.keys())\n",
      "assert __ == ('dos' in babel_fish.values())"
     ],
     "language": "python",
     "metadata": {},
     "outputs": []
    },
    {
     "cell_type": "code",
     "collapsed": false,
     "input": [
      "# making a dictionary from a sequence of keys\n",
      "cards = {}.fromkeys(\n",
      "    ('red warrior', 'green elf', 'blue valkyrie', 'yellow dwarf',\n",
      "     'confused looking zebra'),\n",
      "    42)\n",
      "\n",
      "assert __ == len(cards)\n",
      "assert __ == cards['green elf']\n",
      "assert __ == cards['yellow dwarf']"
     ],
     "language": "python",
     "metadata": {},
     "outputs": []
    },
    {
     "cell_type": "heading",
     "level": 2,
     "metadata": {},
     "source": [
      "Sets"
     ]
    },
    {
     "cell_type": "code",
     "collapsed": false,
     "input": [
      "# sets make keep lists unique\n",
      "highlanders = ['MacLeod', 'Ramirez', 'MacLeod', 'Matunas',\n",
      "    'MacLeod', 'Malcolm', 'MacLeod']\n",
      "\n",
      "there_can_only_be_only_one = set(highlanders)\n",
      "\n",
      "assert __ == there_can_only_be_only_one"
     ],
     "language": "python",
     "metadata": {},
     "outputs": []
    },
    {
     "cell_type": "code",
     "collapsed": false,
     "input": [
      "# sets are unordered\n",
      "assert set([__, __, __, __, __]) == set('12345')"
     ],
     "language": "python",
     "metadata": {},
     "outputs": []
    },
    {
     "cell_type": "code",
     "collapsed": false,
     "input": [
      "# convert the set into a list to sort it\n",
      "assert __ == sorted(set('13245'))"
     ],
     "language": "python",
     "metadata": {},
     "outputs": []
    },
    {
     "cell_type": "code",
     "collapsed": false,
     "input": [
      "# set have arithmetic operators\n",
      "scotsmen = set(['MacLeod', 'Wallace', 'Willie'])\n",
      "warriors = set(['MacLeod', 'Wallace', 'Leonidas'])\n",
      "\n",
      "assert __ == (scotsmen - warriors)\n",
      "assert __ == (scotsmen | warriors)\n",
      "assert __ == (scotsmen & warriors)\n",
      "assert __ == (scotsmen ^ warriors)"
     ],
     "language": "python",
     "metadata": {},
     "outputs": []
    },
    {
     "cell_type": "code",
     "collapsed": false,
     "input": [
      "# we can query set membership\n",
      "assert __ == (127 in set([127, 0, 0, 1]))\n",
      "assert __ == ('cow' not in set('apocalypse now'))"
     ],
     "language": "python",
     "metadata": {},
     "outputs": []
    },
    {
     "cell_type": "code",
     "collapsed": false,
     "input": [
      "# we can compare subsets\n",
      "assert __ == (set('cake') <= set('cherry cake'))\n",
      "assert __ == (set('cake').issubset(set('cherry cake')))\n",
      "\n",
      "assert __ == (set('cake') > set('pie'))"
     ],
     "language": "python",
     "metadata": {},
     "outputs": []
    },
    {
     "cell_type": "heading",
     "level": 2,
     "metadata": {},
     "source": [
      "Tuples"
     ]
    },
    {
     "cell_type": "code",
     "collapsed": false,
     "input": [
      "# creating a tuple\n",
      "count_of_three = (1, 2, 5)\n",
      "assert __ == count_of_three[2]"
     ],
     "language": "python",
     "metadata": {},
     "outputs": []
    },
    {
     "cell_type": "code",
     "collapsed": false,
     "input": [
      "# tuples are immutable so item assignment is not possible\n",
      "# ANSWERED!\n",
      "count_of_three = (1, 2, 5)\n",
      "try:\n",
      "    count_of_three[2] = \"three\"\n",
      "except TypeError as ex:\n",
      "    assert \"'tuple' object does not support item assignment\" == str(ex)"
     ],
     "language": "python",
     "metadata": {},
     "outputs": [],
     "prompt_number": 12
    },
    {
     "cell_type": "code",
     "collapsed": false,
     "input": [
      "# tuples are immutable so appending is not possible\n",
      "# ANSWERED!\n",
      "count_of_three = (1, 2, 5)\n",
      "try:\n",
      "    count_of_three.append(\"boom\")\n",
      "except Exception as ex:\n",
      "    assert AttributeError == type(ex)\n",
      "\n",
      "    # Note, assertMatch() uses regular expression pattern matching,\n",
      "    # so you don't have to copy the whole message.\n",
      "    assert \"'tuple' object has no attribute 'append'\" == str(ex)\n",
      "\n",
      "# Tuples are less flexible than lists, but faster."
     ],
     "language": "python",
     "metadata": {},
     "outputs": [],
     "prompt_number": 14
    },
    {
     "cell_type": "code",
     "collapsed": false,
     "input": [
      "# tuples can only be changed through replacement\n",
      "count_of_three = (1, 2, 5)\n",
      "\n",
      "list_count = list(count_of_three)\n",
      "list_count.append(\"boom\")\n",
      "count_of_three = tuple(list_count)\n",
      "\n",
      "assert __ == count_of_three"
     ],
     "language": "python",
     "metadata": {},
     "outputs": [],
     "prompt_number": 16
    },
    {
     "cell_type": "code",
     "collapsed": false,
     "input": [
      "# tuples of one look peculiar\n",
      "assert __ == (1).__class__\n",
      "assert __ == (1,).__class__\n",
      "assert __ == (\"Hello comma!\", )"
     ],
     "language": "python",
     "metadata": {},
     "outputs": [],
     "prompt_number": 19
    },
    {
     "cell_type": "code",
     "collapsed": false,
     "input": [
      "# tuple constructor can be surprising\n",
      "assert __ == tuple(\"Surprise!\")"
     ],
     "language": "python",
     "metadata": {},
     "outputs": []
    },
    {
     "cell_type": "code",
     "collapsed": false,
     "input": [
      "# creating empty tuples\n",
      "assert __ == ()\n",
      "assert __ == tuple()  # Sometimes less confusing"
     ],
     "language": "python",
     "metadata": {},
     "outputs": []
    },
    {
     "cell_type": "code",
     "collapsed": false,
     "input": [
      "# tuples can be embedded\n",
      "lat = (37, 14, 6, 'N')\n",
      "lon = (115, 48, 40, 'W')\n",
      "place = ('Area 51', lat, lon)\n",
      "assert __ == place"
     ],
     "language": "python",
     "metadata": {},
     "outputs": []
    },
    {
     "cell_type": "code",
     "collapsed": false,
     "input": [
      "# tuples are good for representing records\n",
      "locations = [\n",
      "    (\"Illuminati HQ\", (38, 52, 15.56, 'N'), (77, 3, 21.46, 'W')),\n",
      "    (\"Stargate B\", (41, 10, 43.92, 'N'), (1, 49, 34.29, 'W')),\n",
      "]\n",
      "\n",
      "locations.append(\n",
      "    (\"Cthulhu\", (26, 40, 1, 'N'), (70, 45, 7, 'W'))\n",
      ")\n",
      "\n",
      "assert __ == locations[2][0]\n",
      "assert __ == locations[0][1][2]"
     ],
     "language": "python",
     "metadata": {},
     "outputs": []
    }
   ],
   "metadata": {}
  }
 ]
}