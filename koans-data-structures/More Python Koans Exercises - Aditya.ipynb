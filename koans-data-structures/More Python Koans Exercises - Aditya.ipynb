{
 "metadata": {
  "name": "",
  "signature": "sha256:ecd5af21944ff424f61dfc570a0dac031de4a9e8ffd110d10845d1d45be50ad5"
 },
 "nbformat": 3,
 "nbformat_minor": 0,
 "worksheets": [
  {
   "cells": [
    {
     "cell_type": "heading",
     "level": 1,
     "metadata": {},
     "source": [
      "Python Koans Exercises for Data Structures"
     ]
    },
    {
     "cell_type": "heading",
     "level": 2,
     "metadata": {},
     "source": [
      "Instructions"
     ]
    },
    {
     "cell_type": "code",
     "collapsed": false,
     "input": [
      "\"\"\"\n",
      "replace the __ with \n",
      "an equality operator (like == or !=) \n",
      "or if there is none\n",
      "with what makes the equality operator true\n",
      "\"\"\""
     ],
     "language": "python",
     "metadata": {},
     "outputs": []
    },
    {
     "cell_type": "heading",
     "level": 2,
     "metadata": {},
     "source": [
      "String Manipulation"
     ]
    },
    {
     "cell_type": "code",
     "collapsed": false,
     "input": [
      "# use format to interpolate variables\n",
      "value1 = 'one'\n",
      "value2 = 2\n",
      "string = \"The values are {0} and {1}\".format(value1, value2)\n",
      "assert 'The values are one and 2' == string"
     ],
     "language": "python",
     "metadata": {},
     "outputs": [],
     "prompt_number": 2
    },
    {
     "cell_type": "code",
     "collapsed": false,
     "input": [
      "# formatted values can be shown in any order or be repeated\n",
      "value1 = 'doh'\n",
      "value2 = 'DOH'\n",
      "string = \"The values are {1}, {0}, {0} and {1}!\".format(value1, value2)\n",
      "assert 'The values are DOH, doh, doh and DOH!' == string"
     ],
     "language": "python",
     "metadata": {},
     "outputs": [],
     "prompt_number": 4
    },
    {
     "cell_type": "code",
     "collapsed": false,
     "input": [
      "# any python expression may be interpolated\n",
      "import math  # import a standard python module with math functions\n",
      "\n",
      "decimal_places = 4\n",
      "string = \"The square root of 5 is {0:.{1}f}\".format(math.sqrt(5), \\\n",
      "    decimal_places)\n",
      "assert 'The square root of 5 is 2.2361' == string"
     ],
     "language": "python",
     "metadata": {},
     "outputs": [],
     "prompt_number": 5
    },
    {
     "cell_type": "code",
     "collapsed": false,
     "input": [
      "# you can get a substring from a string\n",
      "string = \"Bacon, lettuce and tomato\"\n",
      "assert 'let' == string[7:10]"
     ],
     "language": "python",
     "metadata": {},
     "outputs": [],
     "prompt_number": 6
    },
    {
     "cell_type": "code",
     "collapsed": false,
     "input": [
      "# you can get a single character from a string\n",
      "string = \"Bacon, lettuce and tomato\"\n",
      "assert 'a' == string[1]"
     ],
     "language": "python",
     "metadata": {},
     "outputs": [],
     "prompt_number": 7
    },
    {
     "cell_type": "code",
     "collapsed": false,
     "input": [
      "# single characters can be represented by integers\n",
      "assert 97 == ord('a')\n",
      "assert 98 == ord('b') == (ord('a') + 1)"
     ],
     "language": "python",
     "metadata": {},
     "outputs": [],
     "prompt_number": 8
    },
    {
     "cell_type": "code",
     "collapsed": false,
     "input": [
      "# strings_can_be_split(self):\n",
      "string = \"Sausage Egg Cheese\"\n",
      "words = string.split()\n",
      "assert ['Sausage', 'Egg', 'Cheese'] == words"
     ],
     "language": "python",
     "metadata": {},
     "outputs": [],
     "prompt_number": 9
    },
    {
     "cell_type": "code",
     "collapsed": false,
     "input": [
      "# strings can be split with different patterns\n",
      "import re  # import python regular expression library\n",
      "\n",
      "string = \"the,rain;in,spain\"\n",
      "pattern = re.compile(',|;')\n",
      "\n",
      "words = pattern.split(string)\n",
      "\n",
      "assert ['the', 'rain', 'in','spain'] == words \n",
      "\n",
      "# `pattern` is a Python regular expression pattern which matches\n",
      "# ',' or ';'"
     ],
     "language": "python",
     "metadata": {},
     "outputs": [],
     "prompt_number": 10
    },
    {
     "cell_type": "code",
     "collapsed": false,
     "input": [
      "# raw strings do not interpret escape characters\n",
      "string = r'\\n'\n",
      "assert r'' != string\n",
      "assert '\\\\n' == string\n",
      "assert 2 == len(string)\n",
      "\n",
      "# Useful in regular expressions, file paths, URLs, etc."
     ],
     "language": "python",
     "metadata": {},
     "outputs": [],
     "prompt_number": 21
    },
    {
     "cell_type": "code",
     "collapsed": false,
     "input": [
      "# strings can be joined\n",
      "words = [\"Now\", \"is\", \"the\", \"time\"]\n",
      "assert 'Now is the time' == ' '.join(words)"
     ],
     "language": "python",
     "metadata": {},
     "outputs": [],
     "prompt_number": 22
    },
    {
     "cell_type": "code",
     "collapsed": false,
     "input": [
      "# strings can change case\n",
      "assert 'Guido' == 'guido'.capitalize()\n",
      "assert 'GUIDO' == 'guido'.upper()\n",
      "assert 'timbot' == 'TimBot'.lower()\n",
      "assert 'Guido Van Rossum' == 'guido van rossum'.title()\n",
      "assert 'tOtAlLy AwEsOmE' == 'ToTaLlY aWeSoMe'.swapcase()"
     ],
     "language": "python",
     "metadata": {},
     "outputs": [],
     "prompt_number": 24
    },
    {
     "cell_type": "heading",
     "level": 2,
     "metadata": {},
     "source": [
      "True and False"
     ]
    },
    {
     "cell_type": "code",
     "collapsed": false,
     "input": [
      "def truth_value(condition):\n",
      "    if condition:\n",
      "        return 'true stuff'\n",
      "    else:\n",
      "        return 'false stuff'"
     ],
     "language": "python",
     "metadata": {},
     "outputs": [],
     "prompt_number": 26
    },
    {
     "cell_type": "code",
     "collapsed": false,
     "input": [
      "# true is treated as true\n",
      "assert 'true stuff' == truth_value(True)"
     ],
     "language": "python",
     "metadata": {},
     "outputs": [],
     "prompt_number": 27
    },
    {
     "cell_type": "code",
     "collapsed": false,
     "input": [
      "# false is treated as false\n",
      "assert 'false stuff' == truth_value(False)"
     ],
     "language": "python",
     "metadata": {},
     "outputs": [],
     "prompt_number": 28
    },
    {
     "cell_type": "code",
     "collapsed": false,
     "input": [
      "# none is treated as false\n",
      "assert 'false stuff' == truth_value(None)"
     ],
     "language": "python",
     "metadata": {},
     "outputs": [],
     "prompt_number": 29
    },
    {
     "cell_type": "code",
     "collapsed": false,
     "input": [
      "# zero is treated as false\n",
      "assert 'false stuff' == truth_value(0)"
     ],
     "language": "python",
     "metadata": {},
     "outputs": [],
     "prompt_number": 30
    },
    {
     "cell_type": "code",
     "collapsed": false,
     "input": [
      "# empty collections are treated as false\n",
      "assert 'false stuff' == truth_value([])\n",
      "assert 'false stuff' == truth_value(())\n",
      "assert 'false stuff' == truth_value({})\n",
      "assert 'false stuff' == truth_value(set())"
     ],
     "language": "python",
     "metadata": {},
     "outputs": [],
     "prompt_number": 31
    },
    {
     "cell_type": "code",
     "collapsed": false,
     "input": [
      "# blank strings are treated as false\n",
      "assert 'false stuff' == truth_value(\"\")"
     ],
     "language": "python",
     "metadata": {},
     "outputs": [],
     "prompt_number": 32
    },
    {
     "cell_type": "code",
     "collapsed": false,
     "input": [
      "# everything else is treated as true\n",
      "assert 'true stuff' == truth_value(1)\n",
      "assert 'true stuff' == truth_value(1,)\n",
      "assert 'true stuff' == truth_value(\"Python is named after Monty Python\")\n",
      "assert 'true stuff' == truth_value(' ')\n",
      "assert 'true stuff' == truth_value('0')"
     ],
     "language": "python",
     "metadata": {},
     "outputs": [],
     "prompt_number": 33
    },
    {
     "cell_type": "heading",
     "level": 2,
     "metadata": {},
     "source": [
      "Control Statements"
     ]
    },
    {
     "cell_type": "code",
     "collapsed": false,
     "input": [
      "# if then else statements\n",
      "if True:\n",
      "    result = 'true value'\n",
      "else:\n",
      "    result = 'false value'\n",
      "assert 'true value' == result"
     ],
     "language": "python",
     "metadata": {},
     "outputs": [],
     "prompt_number": 35
    },
    {
     "cell_type": "code",
     "collapsed": false,
     "input": [
      "# if then statements\n",
      "result = 'default value'\n",
      "if True:\n",
      "    result = 'true value'\n",
      "assert 'true value' == result"
     ],
     "language": "python",
     "metadata": {},
     "outputs": [],
     "prompt_number": 36
    },
    {
     "cell_type": "code",
     "collapsed": false,
     "input": [
      "# if then elif else statements\n",
      "if False:\n",
      "    result = 'first value'\n",
      "elif True: \n",
      "    result = 'true value'\n",
      "else:\n",
      "    result = 'default value'\n",
      "assert 'true value' == result\n",
      "\n"
     ],
     "language": "python",
     "metadata": {},
     "outputs": [],
     "prompt_number": 37
    },
    {
     "cell_type": "code",
     "collapsed": false,
     "input": [
      "# while statement\n",
      "i = 1\n",
      "result = 1\n",
      "while i <= 10:\n",
      "    result = result * i\n",
      "    i += 1\n",
      "assert 3628800 == result"
     ],
     "language": "python",
     "metadata": {},
     "outputs": [],
     "prompt_number": 38
    },
    {
     "cell_type": "code",
     "collapsed": false,
     "input": [
      "# break statement\n",
      "i = 1\n",
      "result = 1\n",
      "while True:\n",
      "    if i > 10: break\n",
      "    result = result * i\n",
      "    i += 1\n",
      "assert 3628800 == result"
     ],
     "language": "python",
     "metadata": {},
     "outputs": [],
     "prompt_number": 39
    },
    {
     "cell_type": "code",
     "collapsed": false,
     "input": [
      "# continue statement\n",
      "i = 0\n",
      "result = []\n",
      "while i < 10:\n",
      "    i += 1\n",
      "    if (i % 2) == 0: continue\n",
      "    result.append(i)\n",
      "assert [1,3,5,7,9] == result"
     ],
     "language": "python",
     "metadata": {},
     "outputs": [],
     "prompt_number": 40
    },
    {
     "cell_type": "code",
     "collapsed": false,
     "input": [
      "# for statement\n",
      "phrase = [\"fish\", \"and\", \"chips\"]\n",
      "result = []\n",
      "for item in phrase:\n",
      "    result.append(item.upper())\n",
      "assert ['FISH', 'AND', 'CHIPS'] == result"
     ],
     "language": "python",
     "metadata": {},
     "outputs": [],
     "prompt_number": 41
    },
    {
     "cell_type": "code",
     "collapsed": false,
     "input": [
      "# for statement with tuples\n",
      "round_table = [\n",
      "    (\"Lancelot\", \"Blue\"),\n",
      "    (\"Galahad\", \"I don't know!\"),\n",
      "    (\"Robin\", \"Blue! I mean Green!\"),\n",
      "    (\"Arthur\", \"Is that an African Swallow or Amazonian Swallow?\")\n",
      "]\n",
      "result = []\n",
      "for knight, answer in round_table:\n",
      "    result.append(\"Contestant: '\" + knight + \\\n",
      "    \"'   Answer: '\" + answer + \"'\")\n",
      "\n",
      "text = 'Contestant: \\'Robin\\'   Answer: \\'Blue! I mean Green!\\''\n",
      "\n",
      "assert text == result[2]\n",
      "\n",
      "assert text != result[0]\n",
      "assert text != result[1]\n",
      "assert text != result[3]"
     ],
     "language": "python",
     "metadata": {},
     "outputs": [],
     "prompt_number": 43
    },
    {
     "cell_type": "heading",
     "level": 2,
     "metadata": {},
     "source": [
      "List Comprehension"
     ]
    },
    {
     "cell_type": "code",
     "collapsed": false,
     "input": [
      "# creating lists with list comprehensions\n",
      "feast = ['lambs', 'sloths', 'orangutans', 'breakfast cereals', 'fruit bats']\n",
      "\n",
      "comprehension = [delicacy.capitalize() for delicacy in feast]\n",
      "\n",
      "assert 'Lambs' == comprehension[0]\n",
      "assert 'Orangutans' == comprehension[2]"
     ],
     "language": "python",
     "metadata": {},
     "outputs": [],
     "prompt_number": 44
    },
    {
     "cell_type": "code",
     "collapsed": false,
     "input": [
      "# filtering lists with list comprehensions\n",
      "feast = ['spam', 'sloths', 'orangutans', 'breakfast cereals', 'fruit bats']\n",
      "\n",
      "comprehension = [delicacy for delicacy in feast if len(delicacy) > 6]\n",
      "\n",
      "assert 5 == len(feast)\n",
      "assert 3 == len(comprehension)"
     ],
     "language": "python",
     "metadata": {},
     "outputs": [],
     "prompt_number": 45
    },
    {
     "cell_type": "code",
     "collapsed": false,
     "input": [
      "# unpacking_tuples_in_list_comprehensions(self):\n",
      "list_of_tuples = [(1, 'lumberjack'), (2, 'inquisition'), (4, 'spam')]\n",
      "comprehension = [ skit * number for number, skit in list_of_tuples ]\n",
      "\n",
      "assert 'lumberjack' == comprehension[0]\n",
      "assert 16 == len(comprehension[2])"
     ],
     "language": "python",
     "metadata": {},
     "outputs": [],
     "prompt_number": 47
    },
    {
     "cell_type": "code",
     "collapsed": false,
     "input": [
      "# double list comprehension\n",
      "list_of_eggs = ['poached egg', 'fried egg']\n",
      "list_of_meats = ['lite spam', 'ham spam', 'fried spam']\n",
      "\n",
      "\n",
      "comprehension = [ '{0} and {1}'.format(egg, meat) for egg in list_of_eggs for meat in list_of_meats]\n",
      "\n",
      "\n",
      "assert 6 == len(comprehension)\n",
      "assert 'poached egg and lite spam' == comprehension[0]"
     ],
     "language": "python",
     "metadata": {},
     "outputs": [],
     "prompt_number": 49
    },
    {
     "cell_type": "code",
     "collapsed": false,
     "input": [
      "# creating a set with set comprehension\n",
      "comprehension = { x for x in 'aabbbcccc'}\n",
      "\n",
      "assert {'a','b','c'} == comprehension  # remember that set members are unique"
     ],
     "language": "python",
     "metadata": {},
     "outputs": [],
     "prompt_number": 53
    },
    {
     "cell_type": "code",
     "collapsed": false,
     "input": [
      "# creating a dictionary with dictionary comprehension\n",
      "dict_of_weapons = {'first': 'fear', 'second': 'surprise',\n",
      "                   'third':'ruthless efficiency', 'forth':'fanatical devotion',\n",
      "                   'fifth': None}\n",
      "\n",
      "dict_comprehension = { k.upper(): weapon for k, weapon in dict_of_weapons.iteritems() if weapon}\n",
      "\n",
      "assert False == ('first' in dict_comprehension)\n",
      "assert True == ('FIRST' in dict_comprehension)\n",
      "assert 5 == len(dict_of_weapons)\n",
      "assert 4 == len(dict_comprehension)"
     ],
     "language": "python",
     "metadata": {},
     "outputs": [],
     "prompt_number": 56
    },
    {
     "cell_type": "heading",
     "level": 2,
     "metadata": {},
     "source": [
      "Lambdas"
     ]
    },
    {
     "cell_type": "code",
     "collapsed": false,
     "input": [
      "# lambdas can be assigned to variables and called explicitly\n",
      "add_one = lambda n: n + 1\n",
      "assert 11 == add_one(10)"
     ],
     "language": "python",
     "metadata": {},
     "outputs": [],
     "prompt_number": 57
    },
    {
     "cell_type": "code",
     "collapsed": false,
     "input": [
      "# This method is used for the 2 assertions below\n",
      "def make_order(order):\n",
      "    return lambda qty: str(qty) + \" \" + order + \"s\""
     ],
     "language": "python",
     "metadata": {},
     "outputs": [],
     "prompt_number": 58
    },
    {
     "cell_type": "code",
     "collapsed": false,
     "input": [
      "# accessing lambda via assignment\n",
      "sausages = make_order('sausage')\n",
      "eggs = make_order('egg')\n",
      "\n",
      "assert '3 sausages' == sausages(3)\n",
      "assert '2 eggs' == eggs(2)"
     ],
     "language": "python",
     "metadata": {},
     "outputs": [],
     "prompt_number": 60
    },
    {
     "cell_type": "code",
     "collapsed": false,
     "input": [
      "# accessing_lambda_without_assignment(self):\n",
      "assert '39823 spams' == make_order('spam')(39823)"
     ],
     "language": "python",
     "metadata": {},
     "outputs": [],
     "prompt_number": 62
    },
    {
     "cell_type": "code",
     "collapsed": false,
     "input": [],
     "language": "python",
     "metadata": {},
     "outputs": []
    }
   ],
   "metadata": {}
  }
 ]
}