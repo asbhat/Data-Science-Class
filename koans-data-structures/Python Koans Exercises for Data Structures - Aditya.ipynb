{
 "metadata": {
  "name": "",
  "signature": "sha256:850335d32b28836b470e6892d743f0f1b48106d55b6df8bb197accc7991f35b4"
 },
 "nbformat": 3,
 "nbformat_minor": 0,
 "worksheets": [
  {
   "cells": [
    {
     "cell_type": "heading",
     "level": 1,
     "metadata": {},
     "source": [
      "Python Koans Exercises for Data Structures"
     ]
    },
    {
     "cell_type": "heading",
     "level": 2,
     "metadata": {},
     "source": [
      "Instructions"
     ]
    },
    {
     "cell_type": "code",
     "collapsed": false,
     "input": [
      "\"\"\"\n",
      "replace the __ with \n",
      "an equality operator (like == or !=) \n",
      "or if there is none\n",
      "with what makes the equality operator true\n",
      "\"\"\""
     ],
     "language": "python",
     "metadata": {},
     "outputs": []
    },
    {
     "cell_type": "heading",
     "level": 2,
     "metadata": {},
     "source": [
      "Lists"
     ]
    },
    {
     "cell_type": "code",
     "collapsed": false,
     "input": [
      "# creating lists\n",
      "\n",
      "empty_list = list()\n",
      "assert list == type(empty_list)\n",
      "assert 0 == len(empty_list)"
     ],
     "language": "python",
     "metadata": {},
     "outputs": [],
     "prompt_number": 1
    },
    {
     "cell_type": "code",
     "collapsed": false,
     "input": [
      "# list literals\n",
      "\n",
      "nums = list()\n",
      "assert [] == nums\n",
      "\n",
      "nums[0:] = [1]\n",
      "assert [1] == nums\n",
      "\n",
      "nums[1:] = [2]\n",
      "assert [1, 2] == nums\n",
      "\n",
      "nums.append(333)\n",
      "assert [1, 2, 333] == nums"
     ],
     "language": "python",
     "metadata": {},
     "outputs": [],
     "prompt_number": 5
    },
    {
     "cell_type": "code",
     "collapsed": false,
     "input": [
      "# accessing list elements\n",
      "\n",
      "noms = ['peanut', 'butter', 'and', 'jelly']\n",
      "\n",
      "assert 'peanut' == noms[0]\n",
      "assert 'jelly' == noms[3]\n",
      "assert 'jelly' == noms[-1]\n",
      "assert 'butter' == noms[-3]"
     ],
     "language": "python",
     "metadata": {},
     "outputs": [],
     "prompt_number": 6
    },
    {
     "cell_type": "code",
     "collapsed": false,
     "input": [
      "# slicing lists\n",
      "\n",
      "noms = ['peanut', 'butter', 'and', 'jelly']\n",
      "\n",
      "assert ['peanut'] == noms[0:1]\n",
      "assert ['peanut','butter'] == noms[0:2]\n",
      "assert [] == noms[2:2]\n",
      "assert ['and','jelly'] == noms[2:20]\n",
      "assert [] == noms[4:0]\n",
      "assert [] == noms[4:100]\n",
      "assert [] == noms[5:0]\n"
     ],
     "language": "python",
     "metadata": {},
     "outputs": [],
     "prompt_number": 11
    },
    {
     "cell_type": "code",
     "collapsed": false,
     "input": [
      "# slicing to the edge\n",
      "\n",
      "noms = ['peanut', 'butter', 'and', 'jelly']\n",
      "\n",
      "assert ['and','jelly'] == noms[2:]\n",
      "assert ['peanut','butter'] == noms[:2]"
     ],
     "language": "python",
     "metadata": {},
     "outputs": [],
     "prompt_number": 12
    },
    {
     "cell_type": "code",
     "collapsed": false,
     "input": [
      "# lists and ranges\n",
      "assert list == type(range(5))\n",
      "assert [0,1,2,3,4] == range(5)\n",
      "assert [5,6,7,8] == range(5, 9)"
     ],
     "language": "python",
     "metadata": {},
     "outputs": [],
     "prompt_number": 14
    },
    {
     "cell_type": "code",
     "collapsed": false,
     "input": [
      "# ranges with steps\n",
      "assert [0,2,4,6] == range(0, 8, 2)\n",
      "assert [1,4,7] == range(1, 8, 3)\n",
      "assert [5,1,-3] == range(5, -7, -4)\n",
      "assert [5,1,-3,-7] == range(5, -8, -4)"
     ],
     "language": "python",
     "metadata": {},
     "outputs": [],
     "prompt_number": 15
    },
    {
     "cell_type": "code",
     "collapsed": false,
     "input": [
      "# insertions\n",
      "knight = ['you', 'shall', 'pass']\n",
      "knight.insert(2, 'not')\n",
      "assert ['you','shall','not','pass'] == knight\n",
      "\n",
      "knight.insert(0, 'Arthur')\n",
      "assert ['Arthur','you','shall','not','pass'] == knight"
     ],
     "language": "python",
     "metadata": {},
     "outputs": [],
     "prompt_number": 16
    },
    {
     "cell_type": "code",
     "collapsed": false,
     "input": [
      "# popping lists\n",
      "stack = [10, 20, 30, 40]\n",
      "stack.append('last')\n",
      "\n",
      "assert [10, 20, 30, 40, 'last'] == stack\n",
      "\n",
      "popped_value = stack.pop()\n",
      "assert 'last' == popped_value\n",
      "assert [10, 20, 30, 40] == stack\n",
      "\n",
      "popped_value = stack.pop(1)\n",
      "assert 20 == popped_value\n",
      "assert [10, 30, 40] == stack\n",
      "\n",
      "# Notice that there is a \"pop\" but no \"push\" in python?\n",
      "\n",
      "# Part of the Python philosophy is that there ideally should be one and\n",
      "# only one way of doing anything. A 'push' is the same as an 'append'.\n",
      "\n",
      "# To learn more about this try typing \"import this\" from the python\n",
      "# console... ;)"
     ],
     "language": "python",
     "metadata": {},
     "outputs": [],
     "prompt_number": 18
    },
    {
     "cell_type": "code",
     "collapsed": false,
     "input": [
      "# use deques for making queues\n",
      "from collections import deque\n",
      "\n",
      "queue = deque([1, 2])\n",
      "queue.append('last')\n",
      "\n",
      "assert [1,2,'last'] == list(queue)\n",
      "\n",
      "popped_value = queue.popleft()\n",
      "assert 1 == popped_value\n",
      "assert [2,'last'] == list(queue)"
     ],
     "language": "python",
     "metadata": {},
     "outputs": [],
     "prompt_number": 20
    },
    {
     "cell_type": "heading",
     "level": 2,
     "metadata": {},
     "source": [
      "List Assignments"
     ]
    },
    {
     "cell_type": "code",
     "collapsed": false,
     "input": [
      "# non parallel assignment\n",
      "names = [\"John\", \"Smith\"]\n",
      "assert [\"John\", \"Smith\"] == names"
     ],
     "language": "python",
     "metadata": {},
     "outputs": [],
     "prompt_number": 21
    },
    {
     "cell_type": "code",
     "collapsed": false,
     "input": [
      "# parallel assignments\n",
      "first_name, last_name = [\"John\", \"Smith\"]\n",
      "assert 'John' == first_name\n",
      "assert 'Smith' == last_name"
     ],
     "language": "python",
     "metadata": {},
     "outputs": [],
     "prompt_number": 22
    },
    {
     "cell_type": "code",
     "collapsed": false,
     "input": [
      "# parallel assignments with sublists\n",
      "first_name, last_name = [[\"Willie\", \"Rae\"], \"Johnson\"]\n",
      "assert ['Willie','Rae'] == first_name\n",
      "assert 'Johnson' == last_name"
     ],
     "language": "python",
     "metadata": {},
     "outputs": [],
     "prompt_number": 23
    },
    {
     "cell_type": "code",
     "collapsed": false,
     "input": [
      "# swapping with parallel assignment\n",
      "first_name = \"Roy\"\n",
      "last_name = \"Rob\"\n",
      "first_name, last_name = last_name, first_name\n",
      "assert 'Rob' == first_name\n",
      "assert 'Roy' == last_name"
     ],
     "language": "python",
     "metadata": {},
     "outputs": [],
     "prompt_number": 24
    },
    {
     "cell_type": "heading",
     "level": 2,
     "metadata": {},
     "source": [
      "Dictionaries"
     ]
    },
    {
     "cell_type": "code",
     "collapsed": false,
     "input": [
      "# creating dictionaries\n",
      "empty_dict = dict()\n",
      "assert dict == type(empty_dict)\n",
      "assert {} == empty_dict\n",
      "assert 0 == len(empty_dict)"
     ],
     "language": "python",
     "metadata": {},
     "outputs": [],
     "prompt_number": 25
    },
    {
     "cell_type": "code",
     "collapsed": false,
     "input": [
      "# dictionary literals\n",
      "empty_dict = {}\n",
      "assert dict == type(empty_dict)\n",
      "babel_fish = {'one': 'uno', 'two': 'dos'}\n",
      "assert 2 == len(babel_fish)"
     ],
     "language": "python",
     "metadata": {},
     "outputs": [],
     "prompt_number": 26
    },
    {
     "cell_type": "code",
     "collapsed": false,
     "input": [
      "# accessing dictionaries\n",
      "babel_fish = {'one': 'uno', 'two': 'dos'}\n",
      "assert 'uno' == babel_fish['one']\n",
      "assert 'dos' == babel_fish['two']"
     ],
     "language": "python",
     "metadata": {},
     "outputs": [],
     "prompt_number": 27
    },
    {
     "cell_type": "code",
     "collapsed": false,
     "input": [
      "# changing dictionaries\n",
      "babel_fish = {'one': 'uno', 'two': 'dos'}\n",
      "babel_fish['one'] = 'eins'\n",
      "\n",
      "expected = {'two': 'dos', 'one': 'eins'}\n",
      "assert expected == babel_fish"
     ],
     "language": "python",
     "metadata": {},
     "outputs": [],
     "prompt_number": 29
    },
    {
     "cell_type": "code",
     "collapsed": false,
     "input": [
      "# dictionary is unordered\n",
      "dict1 = {'one': 'uno', 'two': 'dos'}\n",
      "dict2 = {'two': 'dos', 'one': 'uno'}\n",
      "\n",
      "assert (dict2 == dict1) == (dict1 == dict2)"
     ],
     "language": "python",
     "metadata": {},
     "outputs": [],
     "prompt_number": 31
    },
    {
     "cell_type": "code",
     "collapsed": false,
     "input": [
      "# dictionary keys and values\n",
      "babel_fish = {'one': 'uno', 'two': 'dos'}\n",
      "assert 2 == (len(babel_fish.keys()))\n",
      "assert 2 == (len(babel_fish.values()))\n",
      "assert True == ('one' in babel_fish.keys())\n",
      "assert False == ('two' in babel_fish.values())\n",
      "assert False == ('uno' in babel_fish.keys())\n",
      "assert True == ('dos' in babel_fish.values())"
     ],
     "language": "python",
     "metadata": {},
     "outputs": [],
     "prompt_number": 34
    },
    {
     "cell_type": "code",
     "collapsed": false,
     "input": [
      "# making a dictionary from a sequence of keys\n",
      "cards = {}.fromkeys(\n",
      "    ('red warrior', 'green elf', 'blue valkyrie', 'yellow dwarf',\n",
      "     'confused looking zebra'),\n",
      "    42)\n",
      "\n",
      "assert 5 == len(cards)\n",
      "assert 42 == cards['green elf']\n",
      "assert 42 == cards['yellow dwarf']"
     ],
     "language": "python",
     "metadata": {},
     "outputs": [],
     "prompt_number": 35
    },
    {
     "cell_type": "heading",
     "level": 2,
     "metadata": {},
     "source": [
      "Sets"
     ]
    },
    {
     "cell_type": "code",
     "collapsed": false,
     "input": [
      "# sets make keep lists unique\n",
      "highlanders = ['MacLeod', 'Ramirez', 'MacLeod', 'Matunas',\n",
      "    'MacLeod', 'Malcolm', 'MacLeod']\n",
      "\n",
      "there_can_only_be_only_one = set(highlanders)\n",
      "\n",
      "assert set(['MacLeod', 'Ramirez', 'Matunas', 'Malcolm']) == there_can_only_be_only_one"
     ],
     "language": "python",
     "metadata": {},
     "outputs": [],
     "prompt_number": 36
    },
    {
     "cell_type": "code",
     "collapsed": false,
     "input": [
      "# sets are unordered\n",
      "assert set(['1', '2', '3', '4', '5']) == set('12345')"
     ],
     "language": "python",
     "metadata": {},
     "outputs": [],
     "prompt_number": 38
    },
    {
     "cell_type": "code",
     "collapsed": false,
     "input": [
      "# convert the set into a list to sort it\n",
      "assert ['1','2','3','4','5'] == sorted(set('13245'))"
     ],
     "language": "python",
     "metadata": {},
     "outputs": [],
     "prompt_number": 39
    },
    {
     "cell_type": "code",
     "collapsed": false,
     "input": [
      "# set have arithmetic operators\n",
      "scotsmen = set(['MacLeod', 'Wallace', 'Willie'])\n",
      "warriors = set(['MacLeod', 'Wallace', 'Leonidas'])\n",
      "\n",
      "assert set(['Willie']) == (scotsmen - warriors)\n",
      "assert set(['MacLeod','Wallace','Willie','Leonidas']) == (scotsmen | warriors)\n",
      "assert set(['MacLeod','Wallace']) == (scotsmen & warriors)\n",
      "assert set(['Willie','Leonidas']) == (scotsmen ^ warriors)"
     ],
     "language": "python",
     "metadata": {},
     "outputs": [],
     "prompt_number": 47
    },
    {
     "cell_type": "code",
     "collapsed": false,
     "input": [
      "# we can query set membership\n",
      "assert True == (127 in set([127, 0, 0, 1]))\n",
      "assert True == ('cow' not in set('apocalypse now'))"
     ],
     "language": "python",
     "metadata": {},
     "outputs": [],
     "prompt_number": 48
    },
    {
     "cell_type": "code",
     "collapsed": false,
     "input": [
      "# we can compare subsets\n",
      "assert True == (set('cake') <= set('cherry cake'))\n",
      "assert True == (set('cake').issubset(set('cherry cake')))\n",
      "\n",
      "assert False == (set('cake') > set('pie'))"
     ],
     "language": "python",
     "metadata": {},
     "outputs": [],
     "prompt_number": 51
    },
    {
     "cell_type": "heading",
     "level": 2,
     "metadata": {},
     "source": [
      "Tuples"
     ]
    },
    {
     "cell_type": "code",
     "collapsed": false,
     "input": [
      "# creating a tuple\n",
      "count_of_three = (1, 2, 5)\n",
      "assert 5 == count_of_three[2]"
     ],
     "language": "python",
     "metadata": {},
     "outputs": [],
     "prompt_number": 52
    },
    {
     "cell_type": "code",
     "collapsed": false,
     "input": [
      "# tuples are immutable so item assignment is not possible\n",
      "# ANSWERED!\n",
      "count_of_three = (1, 2, 5)\n",
      "try:\n",
      "    count_of_three[2] = \"three\"\n",
      "except TypeError as ex:\n",
      "    assert \"'tuple' object does not support item assignment\" == str(ex)"
     ],
     "language": "python",
     "metadata": {},
     "outputs": [],
     "prompt_number": 53
    },
    {
     "cell_type": "code",
     "collapsed": false,
     "input": [
      "# tuples are immutable so appending is not possible\n",
      "# ANSWERED!\n",
      "count_of_three = (1, 2, 5)\n",
      "try:\n",
      "    count_of_three.append(\"boom\")\n",
      "except Exception as ex:\n",
      "    assert AttributeError == type(ex)\n",
      "\n",
      "    # Note, assertMatch() uses regular expression pattern matching,\n",
      "    # so you don't have to copy the whole message.\n",
      "    assert \"'tuple' object has no attribute 'append'\" == str(ex)\n",
      "\n",
      "# Tuples are less flexible than lists, but faster."
     ],
     "language": "python",
     "metadata": {},
     "outputs": [],
     "prompt_number": 54
    },
    {
     "cell_type": "code",
     "collapsed": false,
     "input": [
      "# tuples can only be changed through replacement\n",
      "count_of_three = (1, 2, 5)\n",
      "\n",
      "list_count = list(count_of_three)\n",
      "list_count.append(\"boom\")\n",
      "count_of_three = tuple(list_count)\n",
      "\n",
      "assert (1,2,5,'boom') == count_of_three"
     ],
     "language": "python",
     "metadata": {},
     "outputs": [],
     "prompt_number": 55
    },
    {
     "cell_type": "code",
     "collapsed": false,
     "input": [
      "# tuples of one look peculiar\n",
      "assert int == (1).__class__\n",
      "assert tuple == (1,).__class__\n",
      "assert ('Hello comma!',) == (\"Hello comma!\", )"
     ],
     "language": "python",
     "metadata": {},
     "outputs": [],
     "prompt_number": 62
    },
    {
     "cell_type": "code",
     "collapsed": false,
     "input": [
      "# tuple constructor can be surprising\n",
      "assert tuple('Surprise!') == tuple(\"Surprise!\")"
     ],
     "language": "python",
     "metadata": {},
     "outputs": [],
     "prompt_number": 65
    },
    {
     "cell_type": "code",
     "collapsed": false,
     "input": [
      "# creating empty tuples\n",
      "assert () == ()\n",
      "assert tuple() == tuple()  # Sometimes less confusing"
     ],
     "language": "python",
     "metadata": {},
     "outputs": [],
     "prompt_number": 67
    },
    {
     "cell_type": "code",
     "collapsed": false,
     "input": [
      "# tuples can be embedded\n",
      "lat = (37, 14, 6, 'N')\n",
      "lon = (115, 48, 40, 'W')\n",
      "place = ('Area 51', lat, lon)\n",
      "assert ('Area 51',(37,14,6,'N'),(115,48,40,'W')) == place"
     ],
     "language": "python",
     "metadata": {},
     "outputs": [],
     "prompt_number": 68
    },
    {
     "cell_type": "code",
     "collapsed": false,
     "input": [
      "# tuples are good for representing records\n",
      "locations = [\n",
      "    (\"Illuminati HQ\", (38, 52, 15.56, 'N'), (77, 3, 21.46, 'W')),\n",
      "    (\"Stargate B\", (41, 10, 43.92, 'N'), (1, 49, 34.29, 'W')),\n",
      "]\n",
      "\n",
      "locations.append(\n",
      "    (\"Cthulhu\", (26, 40, 1, 'N'), (70, 45, 7, 'W'))\n",
      ")\n",
      "\n",
      "assert 'Cthulhu' == locations[2][0]\n",
      "assert 15.56 == locations[0][1][2]"
     ],
     "language": "python",
     "metadata": {},
     "outputs": [],
     "prompt_number": 69
    },
    {
     "cell_type": "code",
     "collapsed": false,
     "input": [],
     "language": "python",
     "metadata": {},
     "outputs": []
    }
   ],
   "metadata": {}
  }
 ]
}