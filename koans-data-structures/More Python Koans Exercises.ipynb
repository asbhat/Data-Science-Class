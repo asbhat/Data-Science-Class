{
 "metadata": {
  "name": "",
  "signature": "sha256:10bf2743d68921494daec27e89826bc7d4f4700908bb054fa4f580d884e2cb96"
 },
 "nbformat": 3,
 "nbformat_minor": 0,
 "worksheets": [
  {
   "cells": [
    {
     "cell_type": "heading",
     "level": 1,
     "metadata": {},
     "source": [
      "Python Koans Exercises for Data Structures"
     ]
    },
    {
     "cell_type": "heading",
     "level": 2,
     "metadata": {},
     "source": [
      "Instructions"
     ]
    },
    {
     "cell_type": "code",
     "collapsed": false,
     "input": [
      "\"\"\"\n",
      "replace the __ with \n",
      "an equality operator (like == or !=) \n",
      "or if there is none\n",
      "with what makes the equality operator true\n",
      "\"\"\""
     ],
     "language": "python",
     "metadata": {},
     "outputs": []
    },
    {
     "cell_type": "heading",
     "level": 2,
     "metadata": {},
     "source": [
      "String Manipulation"
     ]
    },
    {
     "cell_type": "code",
     "collapsed": false,
     "input": [
      "# use format to interpolate variables\n",
      "value1 = 'one'\n",
      "value2 = 2\n",
      "string = \"The values are {0} and {1}\".format(value1, value2)\n",
      "assert __ == string"
     ],
     "language": "python",
     "metadata": {},
     "outputs": [],
     "prompt_number": 2
    },
    {
     "cell_type": "code",
     "collapsed": false,
     "input": [
      "# formatted values can be shown in any order or be repeated\n",
      "value1 = 'doh'\n",
      "value2 = 'DOH'\n",
      "string = \"The values are {1}, {0}, {0} and {1}!\".format(value1, value2)\n",
      "assert __ == string"
     ],
     "language": "python",
     "metadata": {},
     "outputs": [],
     "prompt_number": 3
    },
    {
     "cell_type": "code",
     "collapsed": false,
     "input": [
      "# any python expression may be interpolated\n",
      "import math  # import a standard python module with math functions\n",
      "\n",
      "decimal_places = 4\n",
      "string = \"The square root of 5 is {0:.{1}f}\".format(math.sqrt(5), \\\n",
      "    decimal_places)\n",
      "assert __ == string"
     ],
     "language": "python",
     "metadata": {},
     "outputs": [],
     "prompt_number": 9
    },
    {
     "cell_type": "code",
     "collapsed": false,
     "input": [
      "# you can get a substring from a string\n",
      "string = \"Bacon, lettuce and tomato\"\n",
      "assert __ == string[7:10]"
     ],
     "language": "python",
     "metadata": {},
     "outputs": []
    },
    {
     "cell_type": "code",
     "collapsed": false,
     "input": [
      "# you can get a single character from a string\n",
      "string = \"Bacon, lettuce and tomato\"\n",
      "assert __ == string[1]"
     ],
     "language": "python",
     "metadata": {},
     "outputs": []
    },
    {
     "cell_type": "code",
     "collapsed": false,
     "input": [
      "# single characters can be represented by integers\n",
      "assert __ == ord('a')\n",
      "assert __ == ord('b') == (ord('a') + 1)"
     ],
     "language": "python",
     "metadata": {},
     "outputs": []
    },
    {
     "cell_type": "code",
     "collapsed": false,
     "input": [
      "# strings_can_be_split(self):\n",
      "string = \"Sausage Egg Cheese\"\n",
      "words = string.split()\n",
      "assert [__, __, __] == words"
     ],
     "language": "python",
     "metadata": {},
     "outputs": []
    },
    {
     "cell_type": "code",
     "collapsed": false,
     "input": [
      "# strings can be split with different patterns\n",
      "import re  # import python regular expression library\n",
      "\n",
      "string = \"the,rain;in,spain\"\n",
      "pattern = re.compile(',|;')\n",
      "\n",
      "words = pattern.split(string)\n",
      "\n",
      "assert [__, __, __, __] == words \n",
      "\n",
      "# `pattern` is a Python regular expression pattern which matches\n",
      "# ',' or ';'"
     ],
     "language": "python",
     "metadata": {},
     "outputs": []
    },
    {
     "cell_type": "code",
     "collapsed": false,
     "input": [
      "# raw strings do not interpret escape characters\n",
      "string = r'\\n'\n",
      "assert '\\n' != string\n",
      "assert __ == string\n",
      "assert __ == len(string)\n",
      "\n",
      "# Useful in regular expressions, file paths, URLs, etc."
     ],
     "language": "python",
     "metadata": {},
     "outputs": []
    },
    {
     "cell_type": "code",
     "collapsed": false,
     "input": [
      "# strings can be joined\n",
      "words = [\"Now\", \"is\", \"the\", \"time\"]\n",
      "assert __ == ' '.join(words)"
     ],
     "language": "python",
     "metadata": {},
     "outputs": []
    },
    {
     "cell_type": "code",
     "collapsed": false,
     "input": [
      "# strings can change case\n",
      "assert __ == 'guido'.capitalize()\n",
      "assert __ == 'guido'.upper()\n",
      "assert __ == 'TimBot'.lower()\n",
      "assert __ == 'guido van rossum'.title()\n",
      "assert __ == 'ToTaLlY aWeSoMe'.swapcase()"
     ],
     "language": "python",
     "metadata": {},
     "outputs": []
    },
    {
     "cell_type": "heading",
     "level": 2,
     "metadata": {},
     "source": [
      "True and False"
     ]
    },
    {
     "cell_type": "code",
     "collapsed": false,
     "input": [
      "def truth_value(condition):\n",
      "    if condition:\n",
      "        return 'true stuff'\n",
      "    else:\n",
      "        return 'false stuff'"
     ],
     "language": "python",
     "metadata": {},
     "outputs": [],
     "prompt_number": 8
    },
    {
     "cell_type": "code",
     "collapsed": false,
     "input": [
      "# true is treated as true\n",
      "assert __ == truth_value(True)"
     ],
     "language": "python",
     "metadata": {},
     "outputs": [],
     "prompt_number": 11
    },
    {
     "cell_type": "code",
     "collapsed": false,
     "input": [
      "# false is treated as false\n",
      "assert __ == truth_value(False)"
     ],
     "language": "python",
     "metadata": {},
     "outputs": []
    },
    {
     "cell_type": "code",
     "collapsed": false,
     "input": [
      "# none is treated as false\n",
      "assert __ == truth_value(None)"
     ],
     "language": "python",
     "metadata": {},
     "outputs": []
    },
    {
     "cell_type": "code",
     "collapsed": false,
     "input": [
      "# zero is treated as false\n",
      "assert __ == truth_value(0)"
     ],
     "language": "python",
     "metadata": {},
     "outputs": []
    },
    {
     "cell_type": "code",
     "collapsed": false,
     "input": [
      "# empty collections are treated as false\n",
      "assert __ == truth_value([])\n",
      "assert __ == truth_value(())\n",
      "assert __ == truth_value({})\n",
      "assert __ == truth_value(set())"
     ],
     "language": "python",
     "metadata": {},
     "outputs": []
    },
    {
     "cell_type": "code",
     "collapsed": false,
     "input": [
      "# blank strings are treated as false\n",
      "assert __ == truth_value(\"\")"
     ],
     "language": "python",
     "metadata": {},
     "outputs": []
    },
    {
     "cell_type": "code",
     "collapsed": false,
     "input": [
      "# everything else is treated as true\n",
      "assert __ == truth_value(1)\n",
      "assert __ == truth_value(1,)\n",
      "assert __ == truth_value(\"Python is named after Monty Python\")\n",
      "assert __ == truth_value(' ')\n",
      "assert __ == truth_value('0')"
     ],
     "language": "python",
     "metadata": {},
     "outputs": []
    },
    {
     "cell_type": "heading",
     "level": 2,
     "metadata": {},
     "source": [
      "Control Statements"
     ]
    },
    {
     "cell_type": "code",
     "collapsed": false,
     "input": [
      "# if then else statements\n",
      "if True:\n",
      "    result = 'true value'\n",
      "else:\n",
      "    result = 'false value'\n",
      "assert __ == result"
     ],
     "language": "python",
     "metadata": {},
     "outputs": []
    },
    {
     "cell_type": "code",
     "collapsed": false,
     "input": [
      "# if then statements\n",
      "result = 'default value'\n",
      "if True:\n",
      "    result = 'true value'\n",
      "assert __ == result"
     ],
     "language": "python",
     "metadata": {},
     "outputs": []
    },
    {
     "cell_type": "code",
     "collapsed": false,
     "input": [
      "# if then elif else statements\n",
      "if False:\n",
      "    result = 'first value'\n",
      "elif True: \n",
      "    result = 'true value'\n",
      "else:\n",
      "    result = 'default value'\n",
      "assert __ == result\n",
      "\n"
     ],
     "language": "python",
     "metadata": {},
     "outputs": []
    },
    {
     "cell_type": "code",
     "collapsed": false,
     "input": [
      "# while statement\n",
      "i = 1\n",
      "result = 1\n",
      "while i <= 10:\n",
      "    result = result * i\n",
      "    i += 1\n",
      "assert __ == result"
     ],
     "language": "python",
     "metadata": {},
     "outputs": []
    },
    {
     "cell_type": "code",
     "collapsed": false,
     "input": [
      "# break statement\n",
      "i = 1\n",
      "result = 1\n",
      "while True:\n",
      "    if i > 10: break\n",
      "    result = result * i\n",
      "    i += 1\n",
      "assert __ == result"
     ],
     "language": "python",
     "metadata": {},
     "outputs": []
    },
    {
     "cell_type": "code",
     "collapsed": false,
     "input": [
      "# continue statement\n",
      "i = 0\n",
      "result = []\n",
      "while i < 10:\n",
      "    i += 1\n",
      "    if (i % 2) == 0: continue\n",
      "    result.append(i)\n",
      "assert __ == result"
     ],
     "language": "python",
     "metadata": {},
     "outputs": []
    },
    {
     "cell_type": "code",
     "collapsed": false,
     "input": [
      "# for statement\n",
      "phrase = [\"fish\", \"and\", \"chips\"]\n",
      "result = []\n",
      "for item in phrase:\n",
      "    result.append(item.upper())\n",
      "assert [__, __, __] == result"
     ],
     "language": "python",
     "metadata": {},
     "outputs": []
    },
    {
     "cell_type": "code",
     "collapsed": false,
     "input": [
      "# for statement with tuples\n",
      "round_table = [\n",
      "    (\"Lancelot\", \"Blue\"),\n",
      "    (\"Galahad\", \"I don't know!\"),\n",
      "    (\"Robin\", \"Blue! I mean Green!\"),\n",
      "    (\"Arthur\", \"Is that an African Swallow or Amazonian Swallow?\")\n",
      "]\n",
      "result = []\n",
      "for knight, answer in round_table:\n",
      "    result.append(\"Contestant: '\" + knight + \\\n",
      "    \"'   Answer: '\" + answer + \"'\")\n",
      "\n",
      "text = __\n",
      "\n",
      "assert text == result[2]\n",
      "\n",
      "assert text != result[0]\n",
      "assert text != result[1]\n",
      "assert text != result[3]"
     ],
     "language": "python",
     "metadata": {},
     "outputs": [],
     "prompt_number": 4
    },
    {
     "cell_type": "heading",
     "level": 2,
     "metadata": {},
     "source": [
      "List Comprehension"
     ]
    },
    {
     "cell_type": "code",
     "collapsed": false,
     "input": [
      "# creating lists with list comprehensions\n",
      "feast = ['lambs', 'sloths', 'orangutans', 'breakfast cereals', 'fruit bats']\n",
      "\n",
      "comprehension = [delicacy.capitalize() for delicacy in feast]\n",
      "\n",
      "assert __ == comprehension[0]\n",
      "assert __ == comprehension[2]"
     ],
     "language": "python",
     "metadata": {},
     "outputs": []
    },
    {
     "cell_type": "code",
     "collapsed": false,
     "input": [
      "# filtering lists with list comprehensions\n",
      "feast = ['spam', 'sloths', 'orangutans', 'breakfast cereals', 'fruit bats']\n",
      "\n",
      "comprehension = [delicacy for delicacy in feast if len(delicacy) > 6]\n",
      "\n",
      "assert __ == len(feast)\n",
      "assert __ == len(comprehension)"
     ],
     "language": "python",
     "metadata": {},
     "outputs": []
    },
    {
     "cell_type": "code",
     "collapsed": false,
     "input": [
      "# unpacking_tuples_in_list_comprehensions(self):\n",
      "list_of_tuples = [(1, 'lumberjack'), (2, 'inquisition'), (4, 'spam')]\n",
      "comprehension = [ skit * number for number, skit in list_of_tuples ]\n",
      "\n",
      "assert __ == comprehension[0]\n",
      "assert __ == len(comprehension[2])"
     ],
     "language": "python",
     "metadata": {},
     "outputs": []
    },
    {
     "cell_type": "code",
     "collapsed": false,
     "input": [
      "# double list comprehension\n",
      "list_of_eggs = ['poached egg', 'fried egg']\n",
      "list_of_meats = ['lite spam', 'ham spam', 'fried spam']\n",
      "\n",
      "\n",
      "comprehension = [ '{0} and {1}'.format(egg, meat) for egg in list_of_eggs for meat in list_of_meats]\n",
      "\n",
      "\n",
      "assert __ == len(comprehension)\n",
      "assert __ == comprehension[0]"
     ],
     "language": "python",
     "metadata": {},
     "outputs": []
    },
    {
     "cell_type": "code",
     "collapsed": false,
     "input": [
      "# creating a set with set comprehension\n",
      "comprehension = { x for x in 'aabbbcccc'}\n",
      "\n",
      "assert __ == comprehension  # remember that set members are unique"
     ],
     "language": "python",
     "metadata": {},
     "outputs": []
    },
    {
     "cell_type": "code",
     "collapsed": false,
     "input": [
      "# creating a dictionary with dictionary comprehension\n",
      "dict_of_weapons = {'first': 'fear', 'second': 'surprise',\n",
      "                   'third':'ruthless efficiency', 'forth':'fanatical devotion',\n",
      "                   'fifth': None}\n",
      "\n",
      "dict_comprehension = { k.upper(): weapon for k, weapon in dict_of_weapons.iteritems() if weapon}\n",
      "\n",
      "assert __ == ('first' in dict_comprehension)\n",
      "assert __ == ('FIRST' in dict_comprehension)\n",
      "assert __ == len(dict_of_weapons)\n",
      "assert __ == len(dict_comprehension)"
     ],
     "language": "python",
     "metadata": {},
     "outputs": []
    },
    {
     "cell_type": "heading",
     "level": 2,
     "metadata": {},
     "source": [
      "Lambdas"
     ]
    },
    {
     "cell_type": "code",
     "collapsed": false,
     "input": [
      "# lambdas can be assigned to variables and called explicitly\n",
      "add_one = lambda n: n + 1\n",
      "assert __ == add_one(10)"
     ],
     "language": "python",
     "metadata": {},
     "outputs": []
    },
    {
     "cell_type": "code",
     "collapsed": false,
     "input": [
      "# This method is used for the 2 assertions below\n",
      "def make_order(order):\n",
      "    return lambda qty: str(qty) + \" \" + order + \"s\""
     ],
     "language": "python",
     "metadata": {},
     "outputs": []
    },
    {
     "cell_type": "code",
     "collapsed": false,
     "input": [
      "# accessing lambda via assignment\n",
      "sausages = make_order('sausage')\n",
      "eggs = make_order('egg')\n",
      "\n",
      "assert __ == sausages(3)\n",
      "assert __ == eggs(2)"
     ],
     "language": "python",
     "metadata": {},
     "outputs": []
    },
    {
     "cell_type": "code",
     "collapsed": false,
     "input": [
      "# accessing_lambda_without_assignment(self):\n",
      "assert __ == make_order('spam')(39823)"
     ],
     "language": "python",
     "metadata": {},
     "outputs": []
    }
   ],
   "metadata": {}
  }
 ]
}