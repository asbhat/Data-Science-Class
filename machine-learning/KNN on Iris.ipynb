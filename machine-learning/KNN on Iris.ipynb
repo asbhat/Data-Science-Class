{
 "metadata": {
  "name": ""
 },
 "nbformat": 3,
 "nbformat_minor": 0,
 "worksheets": [
  {
   "cells": [
    {
     "cell_type": "code",
     "collapsed": false,
     "input": [
      "from sklearn.datasets import load_iris\n",
      "from sklearn.neighbors import KNeighborsClassifier\n",
      "\n",
      "import pandas as pd\n",
      "\n",
      "iris = load_iris()\n",
      "\n",
      "data = pd.DataFrame(iris.data, columns=iris.feature_names)\n",
      "data['species'] = iris.target"
     ],
     "language": "python",
     "metadata": {},
     "outputs": [],
     "prompt_number": 1
    },
    {
     "cell_type": "code",
     "collapsed": false,
     "input": [
      "set(data['species'])"
     ],
     "language": "python",
     "metadata": {},
     "outputs": [
      {
       "html": [
        "<div style=\"max-height:1000px;max-width:1500px;overflow:auto;\">\n",
        "<table border=\"1\" class=\"dataframe\">\n",
        "  <thead>\n",
        "    <tr style=\"text-align: right;\">\n",
        "      <th></th>\n",
        "      <th>sepal length (cm)</th>\n",
        "      <th>sepal width (cm)</th>\n",
        "      <th>petal length (cm)</th>\n",
        "      <th>petal width (cm)</th>\n",
        "      <th>species</th>\n",
        "    </tr>\n",
        "  </thead>\n",
        "  <tbody>\n",
        "    <tr>\n",
        "      <th>0 </th>\n",
        "      <td> 5.1</td>\n",
        "      <td> 3.5</td>\n",
        "      <td> 1.4</td>\n",
        "      <td> 0.2</td>\n",
        "      <td> 0</td>\n",
        "    </tr>\n",
        "    <tr>\n",
        "      <th>1 </th>\n",
        "      <td> 4.9</td>\n",
        "      <td> 3.0</td>\n",
        "      <td> 1.4</td>\n",
        "      <td> 0.2</td>\n",
        "      <td> 0</td>\n",
        "    </tr>\n",
        "    <tr>\n",
        "      <th>2 </th>\n",
        "      <td> 4.7</td>\n",
        "      <td> 3.2</td>\n",
        "      <td> 1.3</td>\n",
        "      <td> 0.2</td>\n",
        "      <td> 0</td>\n",
        "    </tr>\n",
        "    <tr>\n",
        "      <th>3 </th>\n",
        "      <td> 4.6</td>\n",
        "      <td> 3.1</td>\n",
        "      <td> 1.5</td>\n",
        "      <td> 0.2</td>\n",
        "      <td> 0</td>\n",
        "    </tr>\n",
        "    <tr>\n",
        "      <th>4 </th>\n",
        "      <td> 5.0</td>\n",
        "      <td> 3.6</td>\n",
        "      <td> 1.4</td>\n",
        "      <td> 0.2</td>\n",
        "      <td> 0</td>\n",
        "    </tr>\n",
        "    <tr>\n",
        "      <th>5 </th>\n",
        "      <td> 5.4</td>\n",
        "      <td> 3.9</td>\n",
        "      <td> 1.7</td>\n",
        "      <td> 0.4</td>\n",
        "      <td> 0</td>\n",
        "    </tr>\n",
        "    <tr>\n",
        "      <th>6 </th>\n",
        "      <td> 4.6</td>\n",
        "      <td> 3.4</td>\n",
        "      <td> 1.4</td>\n",
        "      <td> 0.3</td>\n",
        "      <td> 0</td>\n",
        "    </tr>\n",
        "    <tr>\n",
        "      <th>7 </th>\n",
        "      <td> 5.0</td>\n",
        "      <td> 3.4</td>\n",
        "      <td> 1.5</td>\n",
        "      <td> 0.2</td>\n",
        "      <td> 0</td>\n",
        "    </tr>\n",
        "    <tr>\n",
        "      <th>8 </th>\n",
        "      <td> 4.4</td>\n",
        "      <td> 2.9</td>\n",
        "      <td> 1.4</td>\n",
        "      <td> 0.2</td>\n",
        "      <td> 0</td>\n",
        "    </tr>\n",
        "    <tr>\n",
        "      <th>9 </th>\n",
        "      <td> 4.9</td>\n",
        "      <td> 3.1</td>\n",
        "      <td> 1.5</td>\n",
        "      <td> 0.1</td>\n",
        "      <td> 0</td>\n",
        "    </tr>\n",
        "    <tr>\n",
        "      <th>10</th>\n",
        "      <td> 5.4</td>\n",
        "      <td> 3.7</td>\n",
        "      <td> 1.5</td>\n",
        "      <td> 0.2</td>\n",
        "      <td> 0</td>\n",
        "    </tr>\n",
        "    <tr>\n",
        "      <th>11</th>\n",
        "      <td> 4.8</td>\n",
        "      <td> 3.4</td>\n",
        "      <td> 1.6</td>\n",
        "      <td> 0.2</td>\n",
        "      <td> 0</td>\n",
        "    </tr>\n",
        "    <tr>\n",
        "      <th>12</th>\n",
        "      <td> 4.8</td>\n",
        "      <td> 3.0</td>\n",
        "      <td> 1.4</td>\n",
        "      <td> 0.1</td>\n",
        "      <td> 0</td>\n",
        "    </tr>\n",
        "    <tr>\n",
        "      <th>13</th>\n",
        "      <td> 4.3</td>\n",
        "      <td> 3.0</td>\n",
        "      <td> 1.1</td>\n",
        "      <td> 0.1</td>\n",
        "      <td> 0</td>\n",
        "    </tr>\n",
        "    <tr>\n",
        "      <th>14</th>\n",
        "      <td> 5.8</td>\n",
        "      <td> 4.0</td>\n",
        "      <td> 1.2</td>\n",
        "      <td> 0.2</td>\n",
        "      <td> 0</td>\n",
        "    </tr>\n",
        "    <tr>\n",
        "      <th>15</th>\n",
        "      <td> 5.7</td>\n",
        "      <td> 4.4</td>\n",
        "      <td> 1.5</td>\n",
        "      <td> 0.4</td>\n",
        "      <td> 0</td>\n",
        "    </tr>\n",
        "    <tr>\n",
        "      <th>16</th>\n",
        "      <td> 5.4</td>\n",
        "      <td> 3.9</td>\n",
        "      <td> 1.3</td>\n",
        "      <td> 0.4</td>\n",
        "      <td> 0</td>\n",
        "    </tr>\n",
        "    <tr>\n",
        "      <th>17</th>\n",
        "      <td> 5.1</td>\n",
        "      <td> 3.5</td>\n",
        "      <td> 1.4</td>\n",
        "      <td> 0.3</td>\n",
        "      <td> 0</td>\n",
        "    </tr>\n",
        "    <tr>\n",
        "      <th>18</th>\n",
        "      <td> 5.7</td>\n",
        "      <td> 3.8</td>\n",
        "      <td> 1.7</td>\n",
        "      <td> 0.3</td>\n",
        "      <td> 0</td>\n",
        "    </tr>\n",
        "    <tr>\n",
        "      <th>19</th>\n",
        "      <td> 5.1</td>\n",
        "      <td> 3.8</td>\n",
        "      <td> 1.5</td>\n",
        "      <td> 0.3</td>\n",
        "      <td> 0</td>\n",
        "    </tr>\n",
        "    <tr>\n",
        "      <th>20</th>\n",
        "      <td> 5.4</td>\n",
        "      <td> 3.4</td>\n",
        "      <td> 1.7</td>\n",
        "      <td> 0.2</td>\n",
        "      <td> 0</td>\n",
        "    </tr>\n",
        "    <tr>\n",
        "      <th>21</th>\n",
        "      <td> 5.1</td>\n",
        "      <td> 3.7</td>\n",
        "      <td> 1.5</td>\n",
        "      <td> 0.4</td>\n",
        "      <td> 0</td>\n",
        "    </tr>\n",
        "    <tr>\n",
        "      <th>22</th>\n",
        "      <td> 4.6</td>\n",
        "      <td> 3.6</td>\n",
        "      <td> 1.0</td>\n",
        "      <td> 0.2</td>\n",
        "      <td> 0</td>\n",
        "    </tr>\n",
        "    <tr>\n",
        "      <th>23</th>\n",
        "      <td> 5.1</td>\n",
        "      <td> 3.3</td>\n",
        "      <td> 1.7</td>\n",
        "      <td> 0.5</td>\n",
        "      <td> 0</td>\n",
        "    </tr>\n",
        "    <tr>\n",
        "      <th>24</th>\n",
        "      <td> 4.8</td>\n",
        "      <td> 3.4</td>\n",
        "      <td> 1.9</td>\n",
        "      <td> 0.2</td>\n",
        "      <td> 0</td>\n",
        "    </tr>\n",
        "    <tr>\n",
        "      <th>25</th>\n",
        "      <td> 5.0</td>\n",
        "      <td> 3.0</td>\n",
        "      <td> 1.6</td>\n",
        "      <td> 0.2</td>\n",
        "      <td> 0</td>\n",
        "    </tr>\n",
        "    <tr>\n",
        "      <th>26</th>\n",
        "      <td> 5.0</td>\n",
        "      <td> 3.4</td>\n",
        "      <td> 1.6</td>\n",
        "      <td> 0.4</td>\n",
        "      <td> 0</td>\n",
        "    </tr>\n",
        "    <tr>\n",
        "      <th>27</th>\n",
        "      <td> 5.2</td>\n",
        "      <td> 3.5</td>\n",
        "      <td> 1.5</td>\n",
        "      <td> 0.2</td>\n",
        "      <td> 0</td>\n",
        "    </tr>\n",
        "    <tr>\n",
        "      <th>28</th>\n",
        "      <td> 5.2</td>\n",
        "      <td> 3.4</td>\n",
        "      <td> 1.4</td>\n",
        "      <td> 0.2</td>\n",
        "      <td> 0</td>\n",
        "    </tr>\n",
        "    <tr>\n",
        "      <th>29</th>\n",
        "      <td> 4.7</td>\n",
        "      <td> 3.2</td>\n",
        "      <td> 1.6</td>\n",
        "      <td> 0.2</td>\n",
        "      <td> 0</td>\n",
        "    </tr>\n",
        "    <tr>\n",
        "      <th>30</th>\n",
        "      <td> 4.8</td>\n",
        "      <td> 3.1</td>\n",
        "      <td> 1.6</td>\n",
        "      <td> 0.2</td>\n",
        "      <td> 0</td>\n",
        "    </tr>\n",
        "    <tr>\n",
        "      <th>31</th>\n",
        "      <td> 5.4</td>\n",
        "      <td> 3.4</td>\n",
        "      <td> 1.5</td>\n",
        "      <td> 0.4</td>\n",
        "      <td> 0</td>\n",
        "    </tr>\n",
        "    <tr>\n",
        "      <th>32</th>\n",
        "      <td> 5.2</td>\n",
        "      <td> 4.1</td>\n",
        "      <td> 1.5</td>\n",
        "      <td> 0.1</td>\n",
        "      <td> 0</td>\n",
        "    </tr>\n",
        "    <tr>\n",
        "      <th>33</th>\n",
        "      <td> 5.5</td>\n",
        "      <td> 4.2</td>\n",
        "      <td> 1.4</td>\n",
        "      <td> 0.2</td>\n",
        "      <td> 0</td>\n",
        "    </tr>\n",
        "    <tr>\n",
        "      <th>34</th>\n",
        "      <td> 4.9</td>\n",
        "      <td> 3.1</td>\n",
        "      <td> 1.5</td>\n",
        "      <td> 0.1</td>\n",
        "      <td> 0</td>\n",
        "    </tr>\n",
        "    <tr>\n",
        "      <th>35</th>\n",
        "      <td> 5.0</td>\n",
        "      <td> 3.2</td>\n",
        "      <td> 1.2</td>\n",
        "      <td> 0.2</td>\n",
        "      <td> 0</td>\n",
        "    </tr>\n",
        "    <tr>\n",
        "      <th>36</th>\n",
        "      <td> 5.5</td>\n",
        "      <td> 3.5</td>\n",
        "      <td> 1.3</td>\n",
        "      <td> 0.2</td>\n",
        "      <td> 0</td>\n",
        "    </tr>\n",
        "    <tr>\n",
        "      <th>37</th>\n",
        "      <td> 4.9</td>\n",
        "      <td> 3.1</td>\n",
        "      <td> 1.5</td>\n",
        "      <td> 0.1</td>\n",
        "      <td> 0</td>\n",
        "    </tr>\n",
        "    <tr>\n",
        "      <th>38</th>\n",
        "      <td> 4.4</td>\n",
        "      <td> 3.0</td>\n",
        "      <td> 1.3</td>\n",
        "      <td> 0.2</td>\n",
        "      <td> 0</td>\n",
        "    </tr>\n",
        "    <tr>\n",
        "      <th>39</th>\n",
        "      <td> 5.1</td>\n",
        "      <td> 3.4</td>\n",
        "      <td> 1.5</td>\n",
        "      <td> 0.2</td>\n",
        "      <td> 0</td>\n",
        "    </tr>\n",
        "    <tr>\n",
        "      <th>40</th>\n",
        "      <td> 5.0</td>\n",
        "      <td> 3.5</td>\n",
        "      <td> 1.3</td>\n",
        "      <td> 0.3</td>\n",
        "      <td> 0</td>\n",
        "    </tr>\n",
        "    <tr>\n",
        "      <th>41</th>\n",
        "      <td> 4.5</td>\n",
        "      <td> 2.3</td>\n",
        "      <td> 1.3</td>\n",
        "      <td> 0.3</td>\n",
        "      <td> 0</td>\n",
        "    </tr>\n",
        "    <tr>\n",
        "      <th>42</th>\n",
        "      <td> 4.4</td>\n",
        "      <td> 3.2</td>\n",
        "      <td> 1.3</td>\n",
        "      <td> 0.2</td>\n",
        "      <td> 0</td>\n",
        "    </tr>\n",
        "    <tr>\n",
        "      <th>43</th>\n",
        "      <td> 5.0</td>\n",
        "      <td> 3.5</td>\n",
        "      <td> 1.6</td>\n",
        "      <td> 0.6</td>\n",
        "      <td> 0</td>\n",
        "    </tr>\n",
        "    <tr>\n",
        "      <th>44</th>\n",
        "      <td> 5.1</td>\n",
        "      <td> 3.8</td>\n",
        "      <td> 1.9</td>\n",
        "      <td> 0.4</td>\n",
        "      <td> 0</td>\n",
        "    </tr>\n",
        "    <tr>\n",
        "      <th>45</th>\n",
        "      <td> 4.8</td>\n",
        "      <td> 3.0</td>\n",
        "      <td> 1.4</td>\n",
        "      <td> 0.3</td>\n",
        "      <td> 0</td>\n",
        "    </tr>\n",
        "    <tr>\n",
        "      <th>46</th>\n",
        "      <td> 5.1</td>\n",
        "      <td> 3.8</td>\n",
        "      <td> 1.6</td>\n",
        "      <td> 0.2</td>\n",
        "      <td> 0</td>\n",
        "    </tr>\n",
        "    <tr>\n",
        "      <th>47</th>\n",
        "      <td> 4.6</td>\n",
        "      <td> 3.2</td>\n",
        "      <td> 1.4</td>\n",
        "      <td> 0.2</td>\n",
        "      <td> 0</td>\n",
        "    </tr>\n",
        "    <tr>\n",
        "      <th>48</th>\n",
        "      <td> 5.3</td>\n",
        "      <td> 3.7</td>\n",
        "      <td> 1.5</td>\n",
        "      <td> 0.2</td>\n",
        "      <td> 0</td>\n",
        "    </tr>\n",
        "    <tr>\n",
        "      <th>49</th>\n",
        "      <td> 5.0</td>\n",
        "      <td> 3.3</td>\n",
        "      <td> 1.4</td>\n",
        "      <td> 0.2</td>\n",
        "      <td> 0</td>\n",
        "    </tr>\n",
        "    <tr>\n",
        "      <th>50</th>\n",
        "      <td> 7.0</td>\n",
        "      <td> 3.2</td>\n",
        "      <td> 4.7</td>\n",
        "      <td> 1.4</td>\n",
        "      <td> 1</td>\n",
        "    </tr>\n",
        "    <tr>\n",
        "      <th>51</th>\n",
        "      <td> 6.4</td>\n",
        "      <td> 3.2</td>\n",
        "      <td> 4.5</td>\n",
        "      <td> 1.5</td>\n",
        "      <td> 1</td>\n",
        "    </tr>\n",
        "    <tr>\n",
        "      <th>52</th>\n",
        "      <td> 6.9</td>\n",
        "      <td> 3.1</td>\n",
        "      <td> 4.9</td>\n",
        "      <td> 1.5</td>\n",
        "      <td> 1</td>\n",
        "    </tr>\n",
        "    <tr>\n",
        "      <th>53</th>\n",
        "      <td> 5.5</td>\n",
        "      <td> 2.3</td>\n",
        "      <td> 4.0</td>\n",
        "      <td> 1.3</td>\n",
        "      <td> 1</td>\n",
        "    </tr>\n",
        "    <tr>\n",
        "      <th>54</th>\n",
        "      <td> 6.5</td>\n",
        "      <td> 2.8</td>\n",
        "      <td> 4.6</td>\n",
        "      <td> 1.5</td>\n",
        "      <td> 1</td>\n",
        "    </tr>\n",
        "    <tr>\n",
        "      <th>55</th>\n",
        "      <td> 5.7</td>\n",
        "      <td> 2.8</td>\n",
        "      <td> 4.5</td>\n",
        "      <td> 1.3</td>\n",
        "      <td> 1</td>\n",
        "    </tr>\n",
        "    <tr>\n",
        "      <th>56</th>\n",
        "      <td> 6.3</td>\n",
        "      <td> 3.3</td>\n",
        "      <td> 4.7</td>\n",
        "      <td> 1.6</td>\n",
        "      <td> 1</td>\n",
        "    </tr>\n",
        "    <tr>\n",
        "      <th>57</th>\n",
        "      <td> 4.9</td>\n",
        "      <td> 2.4</td>\n",
        "      <td> 3.3</td>\n",
        "      <td> 1.0</td>\n",
        "      <td> 1</td>\n",
        "    </tr>\n",
        "    <tr>\n",
        "      <th>58</th>\n",
        "      <td> 6.6</td>\n",
        "      <td> 2.9</td>\n",
        "      <td> 4.6</td>\n",
        "      <td> 1.3</td>\n",
        "      <td> 1</td>\n",
        "    </tr>\n",
        "    <tr>\n",
        "      <th>59</th>\n",
        "      <td> 5.2</td>\n",
        "      <td> 2.7</td>\n",
        "      <td> 3.9</td>\n",
        "      <td> 1.4</td>\n",
        "      <td> 1</td>\n",
        "    </tr>\n",
        "    <tr>\n",
        "      <th></th>\n",
        "      <td>...</td>\n",
        "      <td>...</td>\n",
        "      <td>...</td>\n",
        "      <td>...</td>\n",
        "      <td>...</td>\n",
        "    </tr>\n",
        "  </tbody>\n",
        "</table>\n",
        "<p>150 rows \u00d7 5 columns</p>\n",
        "</div>"
       ],
       "metadata": {},
       "output_type": "pyout",
       "prompt_number": 2,
       "text": [
        "    sepal length (cm)  sepal width (cm)  petal length (cm)  petal width (cm)  \\\n",
        "0                 5.1               3.5                1.4               0.2   \n",
        "1                 4.9               3.0                1.4               0.2   \n",
        "2                 4.7               3.2                1.3               0.2   \n",
        "3                 4.6               3.1                1.5               0.2   \n",
        "4                 5.0               3.6                1.4               0.2   \n",
        "5                 5.4               3.9                1.7               0.4   \n",
        "6                 4.6               3.4                1.4               0.3   \n",
        "7                 5.0               3.4                1.5               0.2   \n",
        "8                 4.4               2.9                1.4               0.2   \n",
        "9                 4.9               3.1                1.5               0.1   \n",
        "10                5.4               3.7                1.5               0.2   \n",
        "11                4.8               3.4                1.6               0.2   \n",
        "12                4.8               3.0                1.4               0.1   \n",
        "13                4.3               3.0                1.1               0.1   \n",
        "14                5.8               4.0                1.2               0.2   \n",
        "15                5.7               4.4                1.5               0.4   \n",
        "16                5.4               3.9                1.3               0.4   \n",
        "17                5.1               3.5                1.4               0.3   \n",
        "18                5.7               3.8                1.7               0.3   \n",
        "19                5.1               3.8                1.5               0.3   \n",
        "20                5.4               3.4                1.7               0.2   \n",
        "21                5.1               3.7                1.5               0.4   \n",
        "22                4.6               3.6                1.0               0.2   \n",
        "23                5.1               3.3                1.7               0.5   \n",
        "24                4.8               3.4                1.9               0.2   \n",
        "25                5.0               3.0                1.6               0.2   \n",
        "26                5.0               3.4                1.6               0.4   \n",
        "27                5.2               3.5                1.5               0.2   \n",
        "28                5.2               3.4                1.4               0.2   \n",
        "29                4.7               3.2                1.6               0.2   \n",
        "30                4.8               3.1                1.6               0.2   \n",
        "31                5.4               3.4                1.5               0.4   \n",
        "32                5.2               4.1                1.5               0.1   \n",
        "33                5.5               4.2                1.4               0.2   \n",
        "34                4.9               3.1                1.5               0.1   \n",
        "35                5.0               3.2                1.2               0.2   \n",
        "36                5.5               3.5                1.3               0.2   \n",
        "37                4.9               3.1                1.5               0.1   \n",
        "38                4.4               3.0                1.3               0.2   \n",
        "39                5.1               3.4                1.5               0.2   \n",
        "40                5.0               3.5                1.3               0.3   \n",
        "41                4.5               2.3                1.3               0.3   \n",
        "42                4.4               3.2                1.3               0.2   \n",
        "43                5.0               3.5                1.6               0.6   \n",
        "44                5.1               3.8                1.9               0.4   \n",
        "45                4.8               3.0                1.4               0.3   \n",
        "46                5.1               3.8                1.6               0.2   \n",
        "47                4.6               3.2                1.4               0.2   \n",
        "48                5.3               3.7                1.5               0.2   \n",
        "49                5.0               3.3                1.4               0.2   \n",
        "50                7.0               3.2                4.7               1.4   \n",
        "51                6.4               3.2                4.5               1.5   \n",
        "52                6.9               3.1                4.9               1.5   \n",
        "53                5.5               2.3                4.0               1.3   \n",
        "54                6.5               2.8                4.6               1.5   \n",
        "55                5.7               2.8                4.5               1.3   \n",
        "56                6.3               3.3                4.7               1.6   \n",
        "57                4.9               2.4                3.3               1.0   \n",
        "58                6.6               2.9                4.6               1.3   \n",
        "59                5.2               2.7                3.9               1.4   \n",
        "                  ...               ...                ...               ...   \n",
        "\n",
        "    species  \n",
        "0         0  \n",
        "1         0  \n",
        "2         0  \n",
        "3         0  \n",
        "4         0  \n",
        "5         0  \n",
        "6         0  \n",
        "7         0  \n",
        "8         0  \n",
        "9         0  \n",
        "10        0  \n",
        "11        0  \n",
        "12        0  \n",
        "13        0  \n",
        "14        0  \n",
        "15        0  \n",
        "16        0  \n",
        "17        0  \n",
        "18        0  \n",
        "19        0  \n",
        "20        0  \n",
        "21        0  \n",
        "22        0  \n",
        "23        0  \n",
        "24        0  \n",
        "25        0  \n",
        "26        0  \n",
        "27        0  \n",
        "28        0  \n",
        "29        0  \n",
        "30        0  \n",
        "31        0  \n",
        "32        0  \n",
        "33        0  \n",
        "34        0  \n",
        "35        0  \n",
        "36        0  \n",
        "37        0  \n",
        "38        0  \n",
        "39        0  \n",
        "40        0  \n",
        "41        0  \n",
        "42        0  \n",
        "43        0  \n",
        "44        0  \n",
        "45        0  \n",
        "46        0  \n",
        "47        0  \n",
        "48        0  \n",
        "49        0  \n",
        "50        1  \n",
        "51        1  \n",
        "52        1  \n",
        "53        1  \n",
        "54        1  \n",
        "55        1  \n",
        "56        1  \n",
        "57        1  \n",
        "58        1  \n",
        "59        1  \n",
        "        ...  \n",
        "\n",
        "[150 rows x 5 columns]"
       ]
      }
     ],
     "prompt_number": 2
    },
    {
     "cell_type": "code",
     "collapsed": false,
     "input": [
      "set(data['species'])"
     ],
     "language": "python",
     "metadata": {},
     "outputs": [
      {
       "metadata": {},
       "output_type": "pyout",
       "prompt_number": 3,
       "text": [
        "{0, 1, 2}"
       ]
      }
     ],
     "prompt_number": 3
    },
    {
     "cell_type": "code",
     "collapsed": false,
     "input": [
      "%matplotlib inline\n",
      "from ggplot import *"
     ],
     "language": "python",
     "metadata": {},
     "outputs": [],
     "prompt_number": 4
    },
    {
     "cell_type": "code",
     "collapsed": false,
     "input": [
      "ggplot(data, aes(x='sepal length (cm)')) + geom_histogram() + facet_wrap('species')"
     ],
     "language": "python",
     "metadata": {},
     "outputs": [
      {
       "output_type": "stream",
       "stream": "stderr",
       "text": [
        "//anaconda/lib/python2.7/site-packages/ggplot/ggplot.py:198: RuntimeWarning: Facetting is currently not supported with geom_bar. See\n",
        "                    https://github.com/yhat/ggplot/issues/196 for more information\n",
        "  warnings.warn(msg, RuntimeWarning)\n"
       ]
      },
      {
       "metadata": {},
       "output_type": "display_data",
       "png": "[encoded data removed]",
       "text": [
        "<matplotlib.figure.Figure at 0x10c701810>"
       ]
      },
      {
       "metadata": {},
       "output_type": "pyout",
       "prompt_number": 6,
       "text": [
        "<ggplot: (280854557)>"
       ]
      }
     ],
     "prompt_number": 6
    },
    {
     "cell_type": "code",
     "collapsed": false,
     "input": [
      "ggplot(data, aes(x='petal length (cm)')) + geom_histogram() + facet_wrap('species')"
     ],
     "language": "python",
     "metadata": {},
     "outputs": [
      {
       "metadata": {},
       "output_type": "display_data",
       "png": "[encoded data removed]",
       "text": [
        "<matplotlib.figure.Figure at 0x10d1f5310>"
       ]
      },
      {
       "metadata": {},
       "output_type": "pyout",
       "prompt_number": 7,
       "text": [
        "<ggplot: (280159173)>"
       ]
      }
     ],
     "prompt_number": 7
    },
    {
     "cell_type": "code",
     "collapsed": false,
     "input": [
      "model = KNeighborsClassifier()\n",
      "model.fit(iris.data, iris.target)"
     ],
     "language": "python",
     "metadata": {},
     "outputs": [
      {
       "metadata": {},
       "output_type": "pyout",
       "prompt_number": 8,
       "text": [
        "KNeighborsClassifier(algorithm='auto', leaf_size=30, metric='minkowski',\n",
        "           n_neighbors=5, p=2, weights='uniform')"
       ]
      }
     ],
     "prompt_number": 8
    },
    {
     "cell_type": "raw",
     "metadata": {},
     "source": [
      "Always keep the target out of the training data"
     ]
    },
    {
     "cell_type": "raw",
     "metadata": {},
     "source": [
      "Training set doesn't do anything (just loads the data) and we also don't learn anything\n",
      "    No idea of how attributes link to outcome (e.g. regression coefficients)"
     ]
    },
    {
     "cell_type": "code",
     "collapsed": false,
     "input": [
      "model.predict([[1.0, 1.0, 4.6, 2.3]])"
     ],
     "language": "python",
     "metadata": {},
     "outputs": [
      {
       "metadata": {},
       "output_type": "pyout",
       "prompt_number": 9,
       "text": [
        "array([1])"
       ]
      }
     ],
     "prompt_number": 9
    },
    {
     "cell_type": "raw",
     "metadata": {},
     "source": [
      "All the work in a KNN model is in the predict function\n",
      "Need the entire data set in order to generate an output\n",
      "    Usually want to cut data down to a subset or formula"
     ]
    },
    {
     "cell_type": "raw",
     "metadata": {},
     "source": [
      "k = 1\n",
      "    Overfitting, needs the entire data set to do predition\n",
      "k = 150\n",
      "    Underfitting, don't need data set anymore (will always pick majority)\n",
      "    This is the worst possible predictive model"
     ]
    },
    {
     "cell_type": "code",
     "collapsed": false,
     "input": [
      "model.score(iris.data, iris.target)"
     ],
     "language": "python",
     "metadata": {},
     "outputs": [
      {
       "metadata": {},
       "output_type": "pyout",
       "prompt_number": 10,
       "text": [
        "0.96666666666666667"
       ]
      }
     ],
     "prompt_number": 10
    },
    {
     "cell_type": "raw",
     "metadata": {},
     "source": [
      "Scores the model created above based upon the predicted value vs. real value\n",
      "    k = 1 --> 100%\n",
      "    k = 150 --> 33%"
     ]
    },
    {
     "cell_type": "code",
     "collapsed": false,
     "input": [
      "from sklearn.cross_validation import train_test_split"
     ],
     "language": "python",
     "metadata": {},
     "outputs": [],
     "prompt_number": 11
    },
    {
     "cell_type": "code",
     "collapsed": false,
     "input": [
      "?train_test_split"
     ],
     "language": "python",
     "metadata": {},
     "outputs": [],
     "prompt_number": 12
    },
    {
     "cell_type": "code",
     "collapsed": false,
     "input": [
      "X_train, X_test, y_train, y_test = train_test_split(iris.data, iris.target, random_state=344)"
     ],
     "language": "python",
     "metadata": {},
     "outputs": [],
     "prompt_number": 18
    },
    {
     "cell_type": "raw",
     "metadata": {},
     "source": [
      "'X' is a matrix so capital, 'y' is a vector so lowercase\n",
      "X_train ~75% of data\n",
      "X_test ~25% of data\n",
      "\n",
      "'random_state=[int]' will keep the randomization constant (so results will be the same on re-running)"
     ]
    },
    {
     "cell_type": "code",
     "collapsed": false,
     "input": [
      "len(X_train)"
     ],
     "language": "python",
     "metadata": {},
     "outputs": [
      {
       "metadata": {},
       "output_type": "pyout",
       "prompt_number": 19,
       "text": [
        "112"
       ]
      }
     ],
     "prompt_number": 19
    },
    {
     "cell_type": "code",
     "collapsed": false,
     "input": [
      "model.fit(X_train, y_train)\n",
      "model.score(X_test, y_test)"
     ],
     "language": "python",
     "metadata": {},
     "outputs": [
      {
       "metadata": {},
       "output_type": "pyout",
       "prompt_number": 20,
       "text": [
        "0.94736842105263153"
       ]
      }
     ],
     "prompt_number": 20
    },
    {
     "cell_type": "code",
     "collapsed": false,
     "input": [
      "model = KNeighborsClassifier(n_neighbors = 1)\n",
      "model.fit(X_train, y_train)\n",
      "model.score(X_test, y_test)"
     ],
     "language": "python",
     "metadata": {},
     "outputs": [
      {
       "metadata": {},
       "output_type": "pyout",
       "prompt_number": 21,
       "text": [
        "0.94736842105263153"
       ]
      }
     ],
     "prompt_number": 21
    },
    {
     "cell_type": "code",
     "collapsed": false,
     "input": [
      "model = KNeighborsClassifier(n_neighbors = 150)\n",
      "model.fit(X_train, y_train)\n",
      "model.score(X_test, y_test)"
     ],
     "language": "python",
     "metadata": {},
     "outputs": [
      {
       "metadata": {},
       "output_type": "pyout",
       "prompt_number": 22,
       "text": [
        "0.31578947368421051"
       ]
      }
     ],
     "prompt_number": 22
    },
    {
     "cell_type": "raw",
     "metadata": {},
     "source": [
      "Values are slightly worse because not all values are in the training set"
     ]
    },
    {
     "cell_type": "code",
     "collapsed": false,
     "input": [
      "for i in xrange(10):\n",
      "    X_train, X_test, y_train, y_test = train_test_split(iris.data, iris.target)\n",
      "    model = KNeighborsClassifier(n_neighbors = 5)\n",
      "    model.fit(X_train, y_train)\n",
      "    print model.score(X_test, y_test)"
     ],
     "language": "python",
     "metadata": {},
     "outputs": [
      {
       "output_type": "stream",
       "stream": "stdout",
       "text": [
        "0.973684210526\n",
        "0.921052631579\n",
        "1.0\n",
        "0.973684210526\n",
        "0.947368421053\n",
        "0.947368421053\n",
        "0.973684210526\n",
        "0.947368421053\n",
        "0.973684210526\n",
        "0.947368421053\n"
       ]
      }
     ],
     "prompt_number": 23
    },
    {
     "cell_type": "raw",
     "metadata": {},
     "source": [
      "View on how large the variations are based on randomization"
     ]
    },
    {
     "cell_type": "code",
     "collapsed": false,
     "input": [
      "scores = []\n",
      "for i in xrange(10):\n",
      "    X_train, X_test, y_train, y_test = train_test_split(iris.data, iris.target)\n",
      "    model = KNeighborsClassifier(n_neighbors = 5)\n",
      "    model.fit(X_train, y_train)\n",
      "    scores.append(model.score(X_test, y_test))\n",
      "print sum(scores)/len(scores)"
     ],
     "language": "python",
     "metadata": {},
     "outputs": [
      {
       "output_type": "stream",
       "stream": "stdout",
       "text": [
        "0.968421052632\n"
       ]
      }
     ],
     "prompt_number": 24
    },
    {
     "cell_type": "code",
     "collapsed": false,
     "input": [
      "scores_for_k = []\n",
      "for k in xrange(1, 51):\n",
      "    scores = []\n",
      "    for i in xrange(10):\n",
      "        X_train, X_test, y_train, y_test = train_test_split(iris.data, iris.target)\n",
      "        model = KNeighborsClassifier(n_neighbors = k)\n",
      "        model.fit(X_train, y_train)\n",
      "        scores.append(model.score(X_test, y_test))\n",
      "    print k, sum(scores)/len(scores)"
     ],
     "language": "python",
     "metadata": {},
     "outputs": [
      {
       "output_type": "stream",
       "stream": "stdout",
       "text": [
        "1 0.957894736842\n",
        "2 0.944736842105\n",
        "3 0.95\n",
        "4 0.955263157895\n",
        "5 0.968421052632\n",
        "6 0.963157894737\n",
        "7 0.965789473684\n",
        "8 0.939473684211\n",
        "9"
       ]
      },
      {
       "output_type": "stream",
       "stream": "stdout",
       "text": [
        " 0.971052631579\n",
        "10 0.968421052632\n",
        "11 0.968421052632\n",
        "12 0.963157894737\n",
        "13 0.973684210526\n",
        "14 0.957894736842\n",
        "15 0.965789473684\n",
        "16"
       ]
      },
      {
       "output_type": "stream",
       "stream": "stdout",
       "text": [
        " 0.973684210526\n",
        "17 0.95\n",
        "18 0.95\n",
        "19 0.944736842105\n",
        "20 0.957894736842\n",
        "21 0.963157894737\n",
        "22 0.942105263158\n",
        "23"
       ]
      },
      {
       "output_type": "stream",
       "stream": "stdout",
       "text": [
        " 0.95\n",
        "24 0.942105263158\n",
        "25 0.939473684211\n",
        "26 0.931578947368\n",
        "27 0.960526315789\n",
        "28 0.934210526316\n",
        "29"
       ]
      },
      {
       "output_type": "stream",
       "stream": "stdout",
       "text": [
        " 0.947368421053\n",
        "30 0.907894736842\n",
        "31 0.939473684211\n",
        "32 0.942105263158\n",
        "33 0.939473684211\n",
        "34 0.931578947368\n",
        "35"
       ]
      },
      {
       "output_type": "stream",
       "stream": "stdout",
       "text": [
        " 0.947368421053\n",
        "36 0.947368421053\n",
        "37 0.934210526316\n",
        "38 0.928947368421\n",
        "39 0.928947368421\n",
        "40 0.921052631579\n",
        "41"
       ]
      },
      {
       "output_type": "stream",
       "stream": "stdout",
       "text": [
        " 0.918421052632\n",
        "42 0.934210526316\n",
        "43 0.928947368421\n",
        "44 0.910526315789\n",
        "45 0.907894736842\n",
        "46 0.915789473684\n",
        "47"
       ]
      },
      {
       "output_type": "stream",
       "stream": "stdout",
       "text": [
        " 0.902631578947\n",
        "48 0.905263157895\n",
        "49 0.907894736842\n",
        "50 0.921052631579\n"
       ]
      }
     ],
     "prompt_number": 25
    },
    {
     "cell_type": "raw",
     "metadata": {},
     "source": [
      "Called 'Cross Validation'\n",
      "Need to iterate over multiple random splits\n",
      "    True cross validation will have every point serve as a training point and a testing point"
     ]
    },
    {
     "cell_type": "code",
     "collapsed": false,
     "input": [
      "from sklearn.cross_validation import cross_val_score\n",
      "\n",
      "model = KNeighborsClassifier(n_neighbors=5)\n",
      "cross_val_score(model, iris.data, iris.target, cv=10)"
     ],
     "language": "python",
     "metadata": {},
     "outputs": [
      {
       "metadata": {},
       "output_type": "pyout",
       "prompt_number": 31,
       "text": [
        "array([ 1.        ,  1.        ,  0.86666667,  1.        ,  1.        ,\n",
        "        0.93333333,  0.93333333,  1.        ,  0.93333333,  1.        ])"
       ]
      }
     ],
     "prompt_number": 31
    },
    {
     "cell_type": "raw",
     "metadata": {},
     "source": [
      "Splits into thirds, tests 1, 2 against 3, then 1,3 against 2, then 2,3 against 1\n",
      "\n",
      "cv = 10 is ideal (tests each point with all other points as training) but is very expensive with other models"
     ]
    },
    {
     "cell_type": "code",
     "collapsed": false,
     "input": [],
     "language": "python",
     "metadata": {},
     "outputs": [],
     "prompt_number": 29
    },
    {
     "cell_type": "code",
     "collapsed": false,
     "input": [],
     "language": "python",
     "metadata": {},
     "outputs": []
    }
   ],
   "metadata": {}
  }
 ]
}