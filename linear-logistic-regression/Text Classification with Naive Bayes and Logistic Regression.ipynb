{
 "metadata": {
  "name": "",
  "signature": "sha256:4bd6ddd8a62b5961dff8ac1adc5d1e22d6997aca5d8581a2b8668e971332f3a4"
 },
 "nbformat": 3,
 "nbformat_minor": 0,
 "worksheets": [
  {
   "cells": [
    {
     "cell_type": "code",
     "collapsed": false,
     "input": [
      "import pandas as pd\n",
      "data = pd.read_csv('/Users/aditya/Github/Data-Science-Class/sentiment-model/training.txt', sep='\\t')\n",
      "print data"
     ],
     "language": "python",
     "metadata": {},
     "outputs": [
      {
       "output_type": "stream",
       "stream": "stdout",
       "text": [
        "      Sentiment                                             Phrase\n",
        "0             1            The Da Vinci Code book is just awesome.\n",
        "1             1  this was the first clive cussler i've ever rea...\n",
        "2             1                   i liked the Da Vinci Code a lot.\n",
        "3             1                   i liked the Da Vinci Code a lot.\n",
        "4             1  I liked the Da Vinci Code but it ultimatly did...\n",
        "5             1  that's not even an exaggeration ) and at midni...\n",
        "6             1  I loved the Da Vinci Code, but now I want some...\n",
        "7             1  i thought da vinci code was great, same with k...\n",
        "8             1      The Da Vinci Code is actually a good movie...\n",
        "9             1  I thought the Da Vinci Code was a pretty good ...\n",
        "10            1  The Da Vinci Code is one of the most beautiful...\n",
        "11            1  The Da Vinci Code is an * amazing * book, do n...\n",
        "12            1  then I turn on the light and the radio and enj...\n",
        "13            1                 The Da Vinci Code was REALLY good.\n",
        "14            1                           i love da vinci code....\n",
        "15            1                            i loved da vinci code..\n",
        "16            1  TO NIGHT:: THE DA VINCI CODE AND A BEAUTIFUL M...\n",
        "17            1           THE DA VINCI CODE is AN AWESOME BOOK....\n",
        "18            1             Thing is, I enjoyed The Da Vinci Code.\n",
        "19            1             very da vinci code slash amazing race.\n",
        "20            1                   Hey I loved The Da Vinci Code!..\n",
        "21            1                     also loved the da vinci code..\n",
        "22            1  I really enjoyed the Da Vinci Code but thought...\n",
        "23            1  I do like Angels and Demons more then The Da V...\n",
        "24            1         The Da Vinci Code was a really good movie.\n",
        "25            1  yeah, da vinci code is an awesome movie i like...\n",
        "26            1                   I really like The Da Vinci Code.\n",
        "27            1                          Da Vinci Code is amazing.\n",
        "28            1                   The Da Vinci Code was awesome...\n",
        "29            1  The Da Vinci Code's backtory on various religi...\n",
        "...         ...                                                ...\n",
        "6888          0           Brokeback Mountain is fucking horrible..\n",
        "6889          0  Then snuck into Brokeback Mountain, which is t...\n",
        "6890          0  , she helped me bobbypin my insanely cool hat ...\n",
        "6891          0  My dad's being stupid about brokeback mountain...\n",
        "6892          0  Oh, and Brokeback Mountain is a TERRIBLE movie...\n",
        "6893          0                     Brokeback Mountain was boring.\n",
        "6894          0       So Brokeback Mountain was really depressing.\n",
        "6895          0  As I sit here, watching the MTV Movie Awards, ...\n",
        "6896          0    Ok brokeback mountain is such a horrible movie.\n",
        "6897          0   Oh, and Brokeback Mountain was a terrible movie.\n",
        "6898          0           Brokeback Mountain is fucking horrible..\n",
        "6899          0  Then snuck into Brokeback Mountain, which is t...\n",
        "6900          0  , she helped me bobbypin my insanely cool hat ...\n",
        "6901          0  My dad's being stupid about brokeback mountain...\n",
        "6902          0  Oh, and Brokeback Mountain is a TERRIBLE movie...\n",
        "6903          0                     Brokeback Mountain was boring.\n",
        "6904          0       So Brokeback Mountain was really depressing.\n",
        "6905          0  As I sit here, watching the MTV Movie Awards, ...\n",
        "6906          0    Ok brokeback mountain is such a horrible movie.\n",
        "6907          0   Oh, and Brokeback Mountain was a terrible movie.\n",
        "6908          0           Brokeback Mountain is fucking horrible..\n",
        "6909          0  Then snuck into Brokeback Mountain, which is t...\n",
        "6910          0  , she helped me bobbypin my insanely cool hat ...\n",
        "6911          0  My dad's being stupid about brokeback mountain...\n",
        "6912          0  Oh, and Brokeback Mountain is a TERRIBLE movie...\n",
        "6913          0                     Brokeback Mountain was boring.\n",
        "6914          0       So Brokeback Mountain was really depressing.\n",
        "6915          0  As I sit here, watching the MTV Movie Awards, ...\n",
        "6916          0    Ok brokeback mountain is such a horrible movie.\n",
        "6917          0   Oh, and Brokeback Mountain was a terrible movie.\n",
        "\n",
        "[6918 rows x 2 columns]\n"
       ]
      }
     ],
     "prompt_number": 1
    },
    {
     "cell_type": "code",
     "collapsed": false,
     "input": [
      "from sklearn.feature_extraction.text import CountVectorizer"
     ],
     "language": "python",
     "metadata": {},
     "outputs": [],
     "prompt_number": 3
    },
    {
     "cell_type": "code",
     "collapsed": false,
     "input": [],
     "language": "python",
     "metadata": {},
     "outputs": []
    }
   ],
   "metadata": {}
  }
 ]
}