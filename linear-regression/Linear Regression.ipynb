{
 "metadata": {
  "name": "",
  "signature": "sha256:036ea7ccfa21af82138f88cd1e1cbfd112dea317972d4958147d619536a03a75"
 },
 "nbformat": 3,
 "nbformat_minor": 0,
 "worksheets": [
  {
   "cells": [
    {
     "cell_type": "code",
     "collapsed": false,
     "input": [
      "import pandas as pd\n",
      "import statsmodels.formula.api as sm\n",
      "data = pd.read_csv(\"http://data.princeton.edu/wws509/datasets/salary.dat\", sep='\\s+')"
     ],
     "language": "python",
     "metadata": {},
     "outputs": [],
     "prompt_number": 2
    },
    {
     "cell_type": "code",
     "collapsed": false,
     "input": [
      "data.head()"
     ],
     "language": "python",
     "metadata": {},
     "outputs": [
      {
       "html": [
        "<div style=\"max-height:1000px;max-width:1500px;overflow:auto;\">\n",
        "<table border=\"1\" class=\"dataframe\">\n",
        "  <thead>\n",
        "    <tr style=\"text-align: right;\">\n",
        "      <th></th>\n",
        "      <th>sx</th>\n",
        "      <th>rk</th>\n",
        "      <th>yr</th>\n",
        "      <th>dg</th>\n",
        "      <th>yd</th>\n",
        "      <th>sl</th>\n",
        "    </tr>\n",
        "  </thead>\n",
        "  <tbody>\n",
        "    <tr>\n",
        "      <th>0</th>\n",
        "      <td>   male</td>\n",
        "      <td> full</td>\n",
        "      <td> 25</td>\n",
        "      <td> doctorate</td>\n",
        "      <td> 35</td>\n",
        "      <td> 36350</td>\n",
        "    </tr>\n",
        "    <tr>\n",
        "      <th>1</th>\n",
        "      <td>   male</td>\n",
        "      <td> full</td>\n",
        "      <td> 13</td>\n",
        "      <td> doctorate</td>\n",
        "      <td> 22</td>\n",
        "      <td> 35350</td>\n",
        "    </tr>\n",
        "    <tr>\n",
        "      <th>2</th>\n",
        "      <td>   male</td>\n",
        "      <td> full</td>\n",
        "      <td> 10</td>\n",
        "      <td> doctorate</td>\n",
        "      <td> 23</td>\n",
        "      <td> 28200</td>\n",
        "    </tr>\n",
        "    <tr>\n",
        "      <th>3</th>\n",
        "      <td> female</td>\n",
        "      <td> full</td>\n",
        "      <td>  7</td>\n",
        "      <td> doctorate</td>\n",
        "      <td> 27</td>\n",
        "      <td> 26775</td>\n",
        "    </tr>\n",
        "    <tr>\n",
        "      <th>4</th>\n",
        "      <td>   male</td>\n",
        "      <td> full</td>\n",
        "      <td> 19</td>\n",
        "      <td>   masters</td>\n",
        "      <td> 30</td>\n",
        "      <td> 33696</td>\n",
        "    </tr>\n",
        "  </tbody>\n",
        "</table>\n",
        "<p>5 rows \u00d7 6 columns</p>\n",
        "</div>"
       ],
       "metadata": {},
       "output_type": "pyout",
       "prompt_number": 3,
       "text": [
        "       sx    rk  yr         dg  yd     sl\n",
        "0    male  full  25  doctorate  35  36350\n",
        "1    male  full  13  doctorate  22  35350\n",
        "2    male  full  10  doctorate  23  28200\n",
        "3  female  full   7  doctorate  27  26775\n",
        "4    male  full  19    masters  30  33696\n",
        "\n",
        "[5 rows x 6 columns]"
       ]
      }
     ],
     "prompt_number": 3
    },
    {
     "cell_type": "code",
     "collapsed": false,
     "input": [
      "from ggplot import *"
     ],
     "language": "python",
     "metadata": {},
     "outputs": [],
     "prompt_number": 4
    },
    {
     "cell_type": "code",
     "collapsed": false,
     "input": [
      "%matplotlib inline"
     ],
     "language": "python",
     "metadata": {},
     "outputs": [],
     "prompt_number": 5
    },
    {
     "cell_type": "code",
     "collapsed": false,
     "input": [
      "ggplot(data, aes(x='yr', y='sl')) + geom_point()"
     ],
     "language": "python",
     "metadata": {},
     "outputs": [
      {
       "metadata": {},
       "output_type": "display_data",
       "png": "[encoded data removed]",
       "text": [
        "<matplotlib.figure.Figure at 0x10c7907d0>"
       ]
      },
      {
       "metadata": {},
       "output_type": "pyout",
       "prompt_number": 7,
       "text": [
        "<ggplot: (281514049)>"
       ]
      }
     ],
     "prompt_number": 7
    },
    {
     "cell_type": "code",
     "collapsed": false,
     "input": [],
     "language": "python",
     "metadata": {},
     "outputs": []
    }
   ],
   "metadata": {}
  }
 ]
}