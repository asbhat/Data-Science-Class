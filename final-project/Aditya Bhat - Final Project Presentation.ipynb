{
 "metadata": {
  "name": "",
  "signature": "sha256:a3c154b8c8cbfe2a1ba5a2e26b02aeb2fcc97d6800b93b46e517699363cef7d9"
 },
 "nbformat": 3,
 "nbformat_minor": 0,
 "worksheets": [
  {
   "cells": [
    {
     "cell_type": "code",
     "collapsed": false,
     "input": [
      "import collections\n",
      "import datetime\n",
      "import pandas as pd\n",
      "import numpy as np\n",
      "import statsmodels.formula.api as sm\n",
      "from sklearn.linear_model import LinearRegression, Lasso, LogisticRegression\n",
      "from sklearn.ensemble import RandomForestClassifier, GradientBoostingClassifier, RandomForestRegressor\n",
      "from patsy import dmatrix\n",
      "from sklearn.cross_validation import cross_val_score\n",
      "from sklearn.metrics import make_scorer\n",
      "from sklearn.metrics import mean_absolute_error\n",
      "from sklearn.metrics import roc_auc_score\n",
      "from sklearn.utils import check_arrays\n",
      "from sklearn.preprocessing import Binarizer\n",
      "\n",
      "from ggplot import *\n",
      "%matplotlib inline\n",
      "\n",
      "rawData = pd.read_csv('SpotComparisonDataBlinded.csv')"
     ],
     "language": "python",
     "metadata": {},
     "outputs": [
      {
       "output_type": "stream",
       "stream": "stderr",
       "text": [
        "/Users/aditya/anaconda/lib/python2.7/site-packages/pandas/io/parsers.py:1130: DtypeWarning: Columns (13,18,19) have mixed types. Specify dtype option on import or set low_memory=False.\n",
        "  data = self._reader.read(nrows)\n"
       ]
      }
     ],
     "prompt_number": 2
    },
    {
     "cell_type": "markdown",
     "metadata": {},
     "source": [
      "Key Variables and Descriptions\n",
      "==============================\n",
      "* `Type`: the type of campaign\n",
      "  * Tune-in (networks advertising new shows)\n",
      "  * Non-tune-in (advertising for non-television program related products)\n",
      "  * VOD Tune-in (advertising for on-demand programming)\n",
      "* `Quarter`: Broadcast quarter for seasonality \n",
      "  * Slightly different to calendar quarter, see http://www.tvb.org/media/file/TVB_Bdcst_Calendar_2014.pdf for details\n",
      "* `Operator`: partner name\n",
      "* `Network`: network name\n",
      "  * For national networks this will be the same as '`Operator`' (e.g. A&E) however the blinding numbers have no relation between the two\n",
      "* `Date`: date of the spot ('m/d/yy')\n",
      "* `DayofWeek`: day of the week for '`Date`' ('dddd')\n",
      "* `PurchasedUnits`: if the unit was purchased (binary variable)\n",
      "* `PurRatecardHHImps`: number of purchased impressions\n",
      "  * This number comes from Partners\n",
      "* `DelivSMDaypart`: delivered spot times grouped into dayparts\n",
      "  * Overnight 12a-6a\n",
      "  * Daytime 6a-4p\n",
      "  * Fringe 4p-8p\n",
      "  * Primetime 8p-12a\n",
      "* `DeliveredUnits`: if the unit was delivered (binary variable)\n",
      "* `ProfitabilityScore`: a score of partner profitability, negative numbers are less favorable and positive numbers are more favorable"
     ]
    },
    {
     "cell_type": "code",
     "collapsed": false,
     "input": [
      "unmatchedData = rawData[(rawData['PurchasedUnits'] == 0) | (rawData['DeliveredUnits'] == 0)].reset_index()"
     ],
     "language": "python",
     "metadata": {},
     "outputs": [],
     "prompt_number": 3
    },
    {
     "cell_type": "markdown",
     "metadata": {},
     "source": [
      "Clearance\n",
      "=========\n",
      "The code below creates a table `spotHistData` which has all the percent of unmatched spots on a partner basis  \n",
      "Also creates a `ClearanceScore` aimed at measuring whether partners give extra spots or miss purchased spots"
     ]
    },
    {
     "cell_type": "code",
     "collapsed": false,
     "input": [
      "spotHistData = unmatchedData[['Operator', 'PurchasedUnits', 'DeliveredUnits']].groupby('Operator').sum()\n",
      "providerTotalSpotCounts = rawData[['Operator','Network']].groupby('Operator').count()\n",
      "spotHistData = spotHistData.merge(providerTotalSpotCounts, how='left', left_index=True, right_index=True)\n",
      "spotHistData.rename(columns={'Network': 'TotalSpots'}, inplace=True)\n",
      "spotHistData.reset_index(inplace=True)\n",
      "spotHistData['PurchasedUnitsPct'] = spotHistData['PurchasedUnits'] / spotHistData['TotalSpots']\n",
      "spotHistData['DeliveredUnitsPct'] = spotHistData['DeliveredUnits'] / spotHistData['TotalSpots']\n",
      "spotHistData['ClearanceScore'] = (spotHistData['DeliveredUnits'] - spotHistData['PurchasedUnits']) / spotHistData['TotalSpots']\n",
      "spotHistData.sort(columns=['TotalSpots'], inplace=True, ascending=False)"
     ],
     "language": "python",
     "metadata": {},
     "outputs": [],
     "prompt_number": 4
    },
    {
     "cell_type": "code",
     "collapsed": false,
     "input": [
      "ggplot(spotHistData[spotHistData['TotalSpots'] >= 900], aes(x='Operator', weight='PurchasedUnitsPct')) + geom_bar() + theme(axis_text_x=element_text(angle=90)) + ggtitle('Top Partners - Unmatched Purchased Spot Percentage') + scale_y_continuous(labels='percent')"
     ],
     "language": "python",
     "metadata": {},
     "outputs": [
      {
       "output_type": "stream",
       "stream": "stderr",
       "text": [
        "/Users/aditya/anaconda/lib/python2.7/site-packages/pandas/util/decorators.py:53: FutureWarning: rows is deprecated, use index instead\n",
        "  warnings.warn(msg, FutureWarning)\n"
       ]
      },
      {
       "metadata": {},
       "output_type": "display_data",
       "png": "[encoded data removed]",
       "text": [
        "<matplotlib.figure.Figure at 0x10a770fd0>"
       ]
      },
      {
       "metadata": {},
       "output_type": "pyout",
       "prompt_number": 5,
       "text": [
        "<ggplot: (279408873)>"
       ]
      }
     ],
     "prompt_number": 5
    },
    {
     "cell_type": "code",
     "collapsed": false,
     "input": [
      "ggplot(spotHistData[spotHistData['TotalSpots'] >= 900], aes(x='Operator', weight='DeliveredUnitsPct')) + geom_bar() + theme(axis_text_x=element_text(angle=90)) + ggtitle('Top Partners - Unmatched Delivered Spot Percentage') + scale_y_continuous(labels='percent')"
     ],
     "language": "python",
     "metadata": {},
     "outputs": [
      {
       "metadata": {},
       "output_type": "display_data",
       "png": "[encoded data removed]",
       "text": [
        "<matplotlib.figure.Figure at 0x10a5905d0>"
       ]
      },
      {
       "metadata": {},
       "output_type": "pyout",
       "prompt_number": 6,
       "text": [
        "<ggplot: (279288385)>"
       ]
      }
     ],
     "prompt_number": 6
    },
    {
     "cell_type": "code",
     "collapsed": false,
     "input": [
      "# Need to drop Partner1 and Partner14 due to data consolidation and matching issues\n",
      "cleanData = rawData[(rawData['Operator'] != 'Partner14') & (rawData['Operator'] != 'Partner1')]\n",
      "# Add 'ClearanceScore' to main dataset\n",
      "cleanData = cleanData.merge(spotHistData[['Operator', 'ClearanceScore']], how='left', on='Operator')"
     ],
     "language": "python",
     "metadata": {},
     "outputs": [],
     "prompt_number": 9
    },
    {
     "cell_type": "markdown",
     "metadata": {},
     "source": [
      "Dependent Variables and Weekend\n",
      "===============================\n",
      "Creates the dependent variables and the `IsWeekend` flag"
     ]
    },
    {
     "cell_type": "code",
     "collapsed": false,
     "input": [
      "cleanData['HHDelivPurDiff'] = cleanData['DelivHHImps'] - cleanData['PurRatecardHHImps']\n",
      "cleanData['HHBinaryDeliv'] = cleanData['HHDelivPurDiff'].apply(lambda x: 1 if x >= 0 else 0)\n",
      "cleanData['IsWeekend'] = cleanData['DayofWeek'].apply(lambda x: 1 if x == 'Saturday' or x == 'Sunday' else 0)"
     ],
     "language": "python",
     "metadata": {},
     "outputs": [],
     "prompt_number": 10
    },
    {
     "cell_type": "markdown",
     "metadata": {},
     "source": [
      "Matched Dataset\n",
      "===============\n",
      "Create the matched subset of the data  \n",
      "Clean `ProfitabilityScore` and `ClearanceScore`"
     ]
    },
    {
     "cell_type": "code",
     "collapsed": false,
     "input": [
      "matchedData = cleanData[(cleanData['PurchasedUnits'] == 1) & (cleanData['DeliveredUnits'] == 1)]\n",
      "matchedData.ProfitabilityScore.fillna(matchedData.ProfitabilityScore.mean(), inplace=True)\n",
      "matchedData.ClearanceScore.fillna(matchedData.ProfitabilityScore.mean(), inplace=True)"
     ],
     "language": "python",
     "metadata": {},
     "outputs": [
      {
       "output_type": "stream",
       "stream": "stderr",
       "text": [
        "-c:3: SettingWithCopyWarning: A value is trying to be set on a copy of a slice from a DataFrame\n"
       ]
      }
     ],
     "prompt_number": 19
    },
    {
     "cell_type": "code",
     "collapsed": false,
     "input": [
      "ggplot(matchedData, aes(x='PurRatecardHHImps', y='DelivHHImps')) + geom_point() + stat_smooth(color='blue') + xlab('Purchased Imps') + ylab('Delivered Imps') "
     ],
     "language": "python",
     "metadata": {},
     "outputs": [
      {
       "metadata": {},
       "output_type": "display_data",
       "png": "[encoded data removed]",
       "text": [
        "<matplotlib.figure.Figure at 0x10aa16dd0>"
       ]
      },
      {
       "metadata": {},
       "output_type": "pyout",
       "prompt_number": 12,
       "text": [
        "<ggplot: (279001877)>"
       ]
      }
     ],
     "prompt_number": 12
    },
    {
     "cell_type": "code",
     "collapsed": false,
     "input": [
      "ggplot(matchedData[(matchedData['HHDelivPurDiff'] >= -200000) & (matchedData['HHDelivPurDiff'] <= 200000) ], aes(x='HHDelivPurDiff')) + geom_histogram(binwidth=10000) + xlab('Delivered - Purchased Imps') + ylab('Counts') "
     ],
     "language": "python",
     "metadata": {},
     "outputs": [
      {
       "metadata": {},
       "output_type": "display_data",
       "png": "[encoded data removed]",
       "text": [
        "<matplotlib.figure.Figure at 0x10af29cd0>"
       ]
      },
      {
       "metadata": {},
       "output_type": "pyout",
       "prompt_number": 13,
       "text": [
        "<ggplot: (279917089)>"
       ]
      }
     ],
     "prompt_number": 13
    },
    {
     "cell_type": "markdown",
     "metadata": {},
     "source": [
      "Linear Regression\n",
      "=================\n",
      "Try and explain the difference in delivered impressions and purchased impressions through linear regression"
     ]
    },
    {
     "cell_type": "code",
     "collapsed": false,
     "input": [
      "formula = \"HHDelivPurDiff ~ PurRatecardHHImps + Operator\"\n",
      "model = sm.ols(formula, data=matchedData).fit()\n",
      "\n",
      "print model.summary()"
     ],
     "language": "python",
     "metadata": {},
     "outputs": [
      {
       "output_type": "stream",
       "stream": "stdout",
       "text": [
        "                            OLS Regression Results                            \n",
        "==============================================================================\n",
        "Dep. Variable:         HHDelivPurDiff   R-squared:                       0.133\n",
        "Model:                            OLS   Adj. R-squared:                  0.132\n",
        "Method:                 Least Squares   F-statistic:                     171.0\n",
        "Date:                Wed, 06 Aug 2014   Prob (F-statistic):               0.00\n",
        "Time:                        11:57:48   Log-Likelihood:            -8.4618e+05\n",
        "No. Observations:               70245   AIC:                         1.692e+06\n",
        "Df Residuals:                   70181   BIC:                         1.693e+06\n",
        "Df Model:                          63                                         \n",
        "=========================================================================================\n",
        "                            coef    std err          t      P>|t|      [95.0% Conf. Int.]\n",
        "-----------------------------------------------------------------------------------------\n",
        "Intercept              4515.9978    254.128     17.771      0.000      4017.907  5014.089\n",
        "Operator[T.Partner13]  3640.3624   6769.460      0.538      0.591     -9627.763  1.69e+04\n",
        "Operator[T.Partner15] -2969.1088   1770.180     -1.677      0.093     -6438.658   500.441\n",
        "Operator[T.Partner16] -3538.4985   1218.167     -2.905      0.004     -5926.103 -1150.894\n",
        "Operator[T.Partner17] -5517.8192   1936.708     -2.849      0.004     -9313.764 -1721.875\n",
        "Operator[T.Partner18] -3096.4205   2386.645     -1.297      0.194     -7774.239  1581.398\n",
        "Operator[T.Partner2]  -4211.7856    355.071    -11.862      0.000     -4907.724 -3515.847\n",
        "Operator[T.Partner20] -4784.7532   1534.312     -3.119      0.002     -7792.000 -1777.506\n",
        "Operator[T.Partner22] -6002.3627   3869.500     -1.551      0.121     -1.36e+04  1581.849\n",
        "Operator[T.Partner23]  -4.04e+04   5974.648     -6.761      0.000     -5.21e+04 -2.87e+04\n",
        "Operator[T.Partner24]  7.582e+04   3433.025     22.085      0.000      6.91e+04  8.25e+04\n",
        "Operator[T.Partner25]   1.45e+04   2359.798      6.143      0.000      9870.233  1.91e+04\n",
        "Operator[T.Partner26]  4.836e+04   3187.928     15.169      0.000      4.21e+04  5.46e+04\n",
        "Operator[T.Partner28]  9081.5254   2319.771      3.915      0.000      4534.780  1.36e+04\n",
        "Operator[T.Partner29] -2.627e+04   7085.565     -3.707      0.000     -4.02e+04 -1.24e+04\n",
        "Operator[T.Partner3]   5848.3106   2685.560      2.178      0.029       584.620  1.11e+04\n",
        "Operator[T.Partner30] -2.671e+04   2442.346    -10.937      0.000     -3.15e+04 -2.19e+04\n",
        "Operator[T.Partner31]  -1.18e+04   2131.977     -5.533      0.000      -1.6e+04 -7617.208\n",
        "Operator[T.Partner32]  4.027e+04   3356.398     11.999      0.000      3.37e+04  4.69e+04\n",
        "Operator[T.Partner34]  1.714e+04   8426.456      2.034      0.042       626.044  3.37e+04\n",
        "Operator[T.Partner36] -2.503e+04   4995.976     -5.010      0.000     -3.48e+04 -1.52e+04\n",
        "Operator[T.Partner38]   9.72e+04   7954.983     12.218      0.000      8.16e+04  1.13e+05\n",
        "Operator[T.Partner4]  -1.084e+04   1639.156     -6.612      0.000     -1.41e+04 -7624.660\n",
        "Operator[T.Partner40]  5379.6615   2870.800      1.874      0.061      -247.100   1.1e+04\n",
        "Operator[T.Partner41]  1.631e+04   2697.478      6.048      0.000       1.1e+04  2.16e+04\n",
        "Operator[T.Partner43] -1.233e+04   8315.240     -1.483      0.138     -2.86e+04  3965.316\n",
        "Operator[T.Partner44] -9324.0034   2863.669     -3.256      0.001     -1.49e+04 -3711.219\n",
        "Operator[T.Partner45]  8048.2400   5429.715      1.482      0.138     -2593.990  1.87e+04\n",
        "Operator[T.Partner46] -4.569e+04   8607.676     -5.308      0.000     -6.26e+04 -2.88e+04\n",
        "Operator[T.Partner48]     -3e+04   4388.262     -6.836      0.000     -3.86e+04 -2.14e+04\n",
        "Operator[T.Partner49]  -2.38e+04   3450.889     -6.897      0.000     -3.06e+04  -1.7e+04\n",
        "Operator[T.Partner5]  -7166.5366   1436.024     -4.991      0.000     -9981.140 -4351.933\n",
        "Operator[T.Partner50]  3771.1987   5073.793      0.743      0.457     -6173.425  1.37e+04\n",
        "Operator[T.Partner51] -1531.8731   4308.483     -0.356      0.722     -9976.491  6912.745\n",
        "Operator[T.Partner52] -7955.6032   5053.642     -1.574      0.115     -1.79e+04  1949.523\n",
        "Operator[T.Partner53]  7.253e+04   2.07e+04      3.500      0.000      3.19e+04  1.13e+05\n",
        "Operator[T.Partner54]   7.32e+04   2.07e+04      3.534      0.000      3.26e+04  1.14e+05\n",
        "Operator[T.Partner55] -2624.5253   2409.273     -1.089      0.276     -7346.695  2097.645\n",
        "Operator[T.Partner56] -1.086e+05   1.15e+04     -9.478      0.000     -1.31e+05 -8.61e+04\n",
        "Operator[T.Partner57]  4.784e+04   1.38e+04      3.471      0.001      2.08e+04  7.49e+04\n",
        "Operator[T.Partner58] -2.583e+04   9238.990     -2.796      0.005     -4.39e+04 -7723.282\n",
        "Operator[T.Partner59]  1122.7214   1.38e+04      0.082      0.935     -2.58e+04  2.81e+04\n",
        "Operator[T.Partner6]    -46.3832   1916.735     -0.024      0.981     -3803.180  3710.414\n",
        "Operator[T.Partner60]  4.356e+05   6407.853     67.986      0.000      4.23e+05  4.48e+05\n",
        "Operator[T.Partner61]  3.746e+04   4825.969      7.762      0.000       2.8e+04  4.69e+04\n",
        "Operator[T.Partner62] -3.292e+04   9790.277     -3.362      0.001     -5.21e+04 -1.37e+04\n",
        "Operator[T.Partner63]  1.364e+04   3115.796      4.378      0.000      7535.247  1.97e+04\n",
        "Operator[T.Partner64] -3.373e+04   1.14e+04     -2.946      0.003     -5.62e+04 -1.13e+04\n",
        "Operator[T.Partner69]  -2.82e+04   4557.832     -6.187      0.000     -3.71e+04 -1.93e+04\n",
        "Operator[T.Partner7]   4448.4753   1718.993      2.588      0.010      1079.252  7817.699\n",
        "Operator[T.Partner72] -3360.4309   5065.667     -0.663      0.507     -1.33e+04  6568.266\n",
        "Operator[T.Partner73]  2.377e+04   7954.552      2.988      0.003      8179.323  3.94e+04\n",
        "Operator[T.Partner74] -2.623e+04   6549.220     -4.005      0.000     -3.91e+04 -1.34e+04\n",
        "Operator[T.Partner75]  -6.54e+04   1.86e+04     -3.513      0.000     -1.02e+05 -2.89e+04\n",
        "Operator[T.Partner76] -2.208e+04   5363.443     -4.117      0.000     -3.26e+04 -1.16e+04\n",
        "Operator[T.Partner77]   962.3435   4940.178      0.195      0.846     -8720.394  1.06e+04\n",
        "Operator[T.Partner78] -6.052e+05   2.16e+04    -27.973      0.000     -6.48e+05 -5.63e+05\n",
        "Operator[T.Partner79] -2640.1518    984.561     -2.682      0.007     -4569.890  -710.414\n",
        "Operator[T.Partner8]  -1.873e+04   2014.944     -9.297      0.000     -2.27e+04 -1.48e+04\n",
        "Operator[T.Partner83] -1.252e+04   2826.537     -4.430      0.000     -1.81e+04 -6982.753\n",
        "Operator[T.Partner84] -1.668e+04   1.31e+04     -1.274      0.203     -4.23e+04  8973.911\n",
        "Operator[T.Partner85] -1.008e+05   1.01e+04    -10.016      0.000      -1.2e+05  -8.1e+04\n",
        "Operator[T.Partner9]   3466.7523   2169.762      1.598      0.110      -785.977  7719.482\n",
        "PurRatecardHHImps        -0.1441      0.004    -33.832      0.000        -0.152    -0.136\n",
        "==============================================================================\n",
        "Omnibus:                    63053.958   Durbin-Watson:                   1.037\n",
        "Prob(Omnibus):                  0.000   Jarque-Bera (JB):         26114810.431\n",
        "Skew:                           3.450   Prob(JB):                         0.00\n",
        "Kurtosis:                      97.206   Cond. No.                     1.30e+07\n",
        "==============================================================================\n",
        "\n",
        "Warnings:\n",
        "[1] The condition number is large, 1.3e+07. This might indicate that there are\n",
        "strong multicollinearity or other numerical problems.\n"
       ]
      }
     ],
     "prompt_number": 14
    },
    {
     "cell_type": "code",
     "collapsed": false,
     "input": [
      "X = dmatrix(\"PurRatecardHHImps + Operator + DelivSMDaypart\", data=matchedData)\n",
      "model = LinearRegression()\n",
      "print cross_val_score(model, X, matchedData.HHDelivPurDiff, scoring=make_scorer(mean_absolute_error))"
     ],
     "language": "python",
     "metadata": {},
     "outputs": [
      {
       "output_type": "stream",
       "stream": "stdout",
       "text": [
        "[ 18373.60456681  16896.7427141   24961.63920674]\n"
       ]
      }
     ],
     "prompt_number": 15
    },
    {
     "cell_type": "code",
     "collapsed": false,
     "input": [
      "def mean_absolute_percentage_error(y_true, y_pred):\n",
      "    # check that all input arrays have consistent first dimensions\n",
      "    y_true, y_pred = check_arrays(y_true, y_pred)\n",
      "    return np.mean(np.abs((y_true - y_pred) / y_true))"
     ],
     "language": "python",
     "metadata": {},
     "outputs": [],
     "prompt_number": 16
    },
    {
     "cell_type": "code",
     "collapsed": false,
     "input": [
      "print cross_val_score(model, X, matchedData.HHDelivPurDiff, scoring=make_scorer(mean_absolute_percentage_error))\n",
      "model = Lasso()\n",
      "print cross_val_score(model, X, matchedData.HHDelivPurDiff, scoring=make_scorer(mean_absolute_percentage_error))"
     ],
     "language": "python",
     "metadata": {},
     "outputs": [
      {
       "output_type": "stream",
       "stream": "stdout",
       "text": [
        "[ 4.93517634  2.76967611  2.41282971]\n",
        "[ 4.93020442  2.74841164  2.40210634]"
       ]
      },
      {
       "output_type": "stream",
       "stream": "stdout",
       "text": [
        "\n"
       ]
      }
     ],
     "prompt_number": 17
    },
    {
     "cell_type": "code",
     "collapsed": false,
     "input": [
      "X = dmatrix(\"PurRatecardHHImps + ProfitabilityScore + ClearanceScore + Type + Quarter + Operator + DelivSMDaypart + DelivSMDaypart * Operator + IsWeekend\", data=matchedData)\n",
      "print cross_val_score(model, X, matchedData.HHDelivPurDiff, scoring=make_scorer(mean_absolute_percentage_error))"
     ],
     "language": "python",
     "metadata": {},
     "outputs": [
      {
       "output_type": "stream",
       "stream": "stdout",
       "text": [
        "[ 5.54240643  5.42817328  3.24663714]\n"
       ]
      },
      {
       "output_type": "stream",
       "stream": "stderr",
       "text": [
        "/Users/aditya/anaconda/lib/python2.7/site-packages/sklearn/linear_model/coordinate_descent.py:418: UserWarning: Objective did not converge. You might want to increase the number of iterations\n",
        "  ' to increase the number of iterations')\n"
       ]
      }
     ],
     "prompt_number": 20
    },
    {
     "cell_type": "code",
     "collapsed": false,
     "input": [
      "X = dmatrix(\"PurRatecardHHImps + ProfitabilityScore + ClearanceScore\", data=matchedData)\n",
      "print cross_val_score(model, X, matchedData.HHDelivPurDiff, scoring=make_scorer(mean_absolute_percentage_error))"
     ],
     "language": "python",
     "metadata": {},
     "outputs": [
      {
       "output_type": "stream",
       "stream": "stdout",
       "text": [
        "[ 1.89136467  2.96300722  4.35841285]\n"
       ]
      }
     ],
     "prompt_number": 21
    },
    {
     "cell_type": "code",
     "collapsed": false,
     "input": [
      "X = dmatrix(\"PurRatecardHHImps + ClearanceScore\", data=matchedData)\n",
      "print cross_val_score(model, X, matchedData.HHDelivPurDiff, scoring=make_scorer(mean_absolute_percentage_error))\n",
      "print np.mean(cross_val_score(model, X, matchedData.HHDelivPurDiff, scoring=make_scorer(mean_absolute_percentage_error)))"
     ],
     "language": "python",
     "metadata": {},
     "outputs": [
      {
       "output_type": "stream",
       "stream": "stdout",
       "text": [
        "[ 1.54450058  1.51877818  3.99502728]\n",
        "2.35276867986\n"
       ]
      }
     ],
     "prompt_number": 23
    },
    {
     "cell_type": "code",
     "collapsed": false,
     "input": [
      "X = dmatrix(\"PurRatecardHHImps\", data=matchedData)\n",
      "print cross_val_score(model, X, matchedData.HHDelivPurDiff, scoring=make_scorer(mean_absolute_percentage_error))\n",
      "print np.mean(cross_val_score(model, X, matchedData.HHDelivPurDiff, scoring=make_scorer(mean_absolute_percentage_error)))"
     ],
     "language": "python",
     "metadata": {},
     "outputs": [
      {
       "output_type": "stream",
       "stream": "stdout",
       "text": [
        "[ 1.95525327  2.23951742  1.70022684]\n",
        "1.96499917552\n"
       ]
      }
     ],
     "prompt_number": 24
    },
    {
     "cell_type": "markdown",
     "metadata": {},
     "source": [
      "###Making Linear Regression into Binary Prediciton and k-fold testing"
     ]
    },
    {
     "cell_type": "code",
     "collapsed": false,
     "input": [
      "print len(matchedData), len(matchedData)//3, len(matchedData)//3*2"
     ],
     "language": "python",
     "metadata": {},
     "outputs": [
      {
       "output_type": "stream",
       "stream": "stdout",
       "text": [
        "70245 23415 46830\n"
       ]
      }
     ],
     "prompt_number": 27
    },
    {
     "cell_type": "code",
     "collapsed": false,
     "input": [
      "Xtrain1 = X[:46830]\n",
      "ytrain1 = matchedData.HHDelivPurDiff[:46830]\n",
      "Xtest1 = X[46830:]\n",
      "ytest1 = matchedData.HHBinaryDeliv[46830:]\n",
      "\n",
      "Xtrain2 = X[23415:]\n",
      "ytrain2 = matchedData.HHDelivPurDiff[23415:]\n",
      "Xtest2 = X[:23415]\n",
      "ytest2 = matchedData.HHBinaryDeliv[:23415]\n",
      "\n",
      "Xtrain3 = np.vstack((X[:23415], X[46830:]))\n",
      "ytrain3 = np.hstack((matchedData.HHDelivPurDiff[:23415], matchedData.HHDelivPurDiff[46830:]))\n",
      "Xtest3 = X[23415:46830]\n",
      "ytest3 = matchedData.HHBinaryDeliv[23415:46830]"
     ],
     "language": "python",
     "metadata": {},
     "outputs": [],
     "prompt_number": 28
    },
    {
     "cell_type": "code",
     "collapsed": false,
     "input": [
      "binarizer = Binarizer()\n",
      "\n",
      "model.fit(Xtrain1, ytrain1)\n",
      "predImps1 = model.predict(Xtest1) \n",
      "yhat1 = binarizer.fit_transform(predImps1)\n",
      "print roc_auc_score(ytest1, yhat1)\n",
      "\n",
      "model.fit(Xtrain2, ytrain2)\n",
      "predImps2 = model.predict(Xtest2) \n",
      "yhat2 = binarizer.fit_transform(predImps2)\n",
      "print roc_auc_score(ytest2, yhat2)\n",
      "\n",
      "model.fit(Xtrain3, ytrain3)\n",
      "predImps3 = model.predict(Xtest3) \n",
      "yhat3 = binarizer.fit_transform(predImps3)\n",
      "print roc_auc_score(ytest3, yhat3)\n",
      "\n",
      "print np.mean([roc_auc_score(ytest1, yhat1), roc_auc_score(ytest2, yhat2), roc_auc_score(ytest3, yhat3)])"
     ],
     "language": "python",
     "metadata": {},
     "outputs": [
      {
       "output_type": "stream",
       "stream": "stdout",
       "text": [
        "0.509303632892\n",
        "0.57096940066\n",
        "0.5\n",
        "0.526757677851\n"
       ]
      }
     ],
     "prompt_number": 29
    },
    {
     "cell_type": "code",
     "collapsed": false,
     "input": [
      "X = dmatrix(\"PurRatecardHHImps + ProfitabilityScore + ClearanceScore + Type + Quarter + Operator + DelivSMDaypart + DelivSMDaypart * Operator + IsWeekend\", data=matchedData)\n",
      "print cross_val_score(model, X, matchedData.HHDelivPurDiff, scoring=make_scorer(mean_absolute_percentage_error))\n",
      "print np.mean(cross_val_score(model, X, matchedData.HHDelivPurDiff, scoring=make_scorer(mean_absolute_percentage_error)))"
     ],
     "language": "python",
     "metadata": {},
     "outputs": [
      {
       "output_type": "stream",
       "stream": "stdout",
       "text": [
        "[ 5.54240643  5.42817328  3.24663714]\n",
        "4.73907228299"
       ]
      },
      {
       "output_type": "stream",
       "stream": "stdout",
       "text": [
        "\n"
       ]
      }
     ],
     "prompt_number": 30
    },
    {
     "cell_type": "markdown",
     "metadata": {},
     "source": [
      "Random Forests\n",
      "==============\n",
      "Non-linear model to try and explain the variances in delivered and purchased impressions"
     ]
    },
    {
     "cell_type": "code",
     "collapsed": false,
     "input": [
      "randForestRegModel = RandomForestRegressor(n_estimators=50)\n",
      "\n",
      "print 'RandomForest Regressor model cross validation:'\n",
      "print np.mean(cross_val_score(randForestRegModel, X, matchedData.HHDelivPurDiff, scoring=make_scorer(mean_absolute_percentage_error)))"
     ],
     "language": "python",
     "metadata": {},
     "outputs": [
      {
       "output_type": "stream",
       "stream": "stdout",
       "text": [
        "RandomForest Regressor model cross validation:\n",
        "4.6055373588"
       ]
      },
      {
       "output_type": "stream",
       "stream": "stdout",
       "text": [
        "\n"
       ]
      }
     ],
     "prompt_number": 31
    },
    {
     "cell_type": "markdown",
     "metadata": {},
     "source": [
      "###Measuring cross validated AUC for the equivalent linear regression model"
     ]
    },
    {
     "cell_type": "code",
     "collapsed": false,
     "input": [
      "Xtrain1 = X[:46830]\n",
      "ytrain1 = matchedData.HHDelivPurDiff[:46830]\n",
      "Xtest1 = X[46830:]\n",
      "ytest1 = matchedData.HHBinaryDeliv[46830:]\n",
      "\n",
      "Xtrain2 = X[23415:]\n",
      "ytrain2 = matchedData.HHDelivPurDiff[23415:]\n",
      "Xtest2 = X[:23415]\n",
      "ytest2 = matchedData.HHBinaryDeliv[:23415]\n",
      "\n",
      "Xtrain3 = np.vstack((X[:23415], X[46830:]))\n",
      "ytrain3 = np.hstack((matchedData.HHDelivPurDiff[:23415], matchedData.HHDelivPurDiff[46830:]))\n",
      "Xtest3 = X[23415:46830]\n",
      "ytest3 = matchedData.HHBinaryDeliv[23415:46830]\n",
      "\n",
      "binarizer = Binarizer()\n",
      "\n",
      "model.fit(Xtrain1, ytrain1)\n",
      "predImps1 = model.predict(Xtest1) \n",
      "yhat1 = binarizer.fit_transform(predImps1)\n",
      "print roc_auc_score(ytest1, yhat1)\n",
      "\n",
      "model.fit(Xtrain2, ytrain2)\n",
      "predImps2 = model.predict(Xtest2) \n",
      "yhat2 = binarizer.fit_transform(predImps2)\n",
      "print roc_auc_score(ytest2, yhat2)\n",
      "\n",
      "model.fit(Xtrain3, ytrain3)\n",
      "predImps3 = model.predict(Xtest3) \n",
      "yhat3 = binarizer.fit_transform(predImps3)\n",
      "print roc_auc_score(ytest3, yhat3)\n",
      "\n",
      "print np.mean([roc_auc_score(ytest1, yhat1), roc_auc_score(ytest2, yhat2), roc_auc_score(ytest3, yhat3)])"
     ],
     "language": "python",
     "metadata": {},
     "outputs": [
      {
       "output_type": "stream",
       "stream": "stdout",
       "text": [
        "0.57473967871\n",
        "0.550925681354"
       ]
      },
      {
       "output_type": "stream",
       "stream": "stdout",
       "text": [
        "\n",
        "0.605201414161"
       ]
      },
      {
       "output_type": "stream",
       "stream": "stdout",
       "text": [
        "\n",
        "0.576955591408\n"
       ]
      }
     ],
     "prompt_number": 32
    },
    {
     "cell_type": "markdown",
     "metadata": {},
     "source": [
      "###Comparison across classification models\n",
      "* Logistic Regression\n",
      "* Random Forest (classifier)\n",
      "* Gradient Booster"
     ]
    },
    {
     "cell_type": "code",
     "collapsed": false,
     "input": [
      "logModel = LogisticRegression(C=10)\n",
      "randForestModel = RandomForestClassifier(n_estimators=50)\n",
      "boosterModel = GradientBoostingClassifier(n_estimators=50)\n",
      "\n",
      "print 'Logistic model cross validation: {0}'.format(\n",
      "    np.mean(cross_val_score(logModel, X, matchedData.HHBinaryDeliv, scoring='roc_auc')))\n",
      "print\n",
      "\n",
      "print 'RandomForest model cross validation: {0}'.format(\n",
      "    np.mean(cross_val_score(randForestModel, X, matchedData.HHBinaryDeliv, scoring='roc_auc')))\n",
      "print\n",
      "\n",
      "print 'Gradient Boosting model cross validation: {0}'.format(\n",
      "    np.mean(cross_val_score(boosterModel, X, matchedData.HHBinaryDeliv, scoring='roc_auc')))"
     ],
     "language": "python",
     "metadata": {},
     "outputs": [
      {
       "output_type": "stream",
       "stream": "stdout",
       "text": [
        "Logistic model cross validation: 0.582467038671\n",
        "\n",
        "RandomForest model cross validation: 0.830754563662"
       ]
      },
      {
       "output_type": "stream",
       "stream": "stdout",
       "text": [
        "\n",
        "\n",
        "Gradient Boosting model cross validation: 0.705032513215"
       ]
      },
      {
       "output_type": "stream",
       "stream": "stdout",
       "text": [
        "\n"
       ]
      }
     ],
     "prompt_number": 34
    },
    {
     "cell_type": "markdown",
     "metadata": {},
     "source": [
      "Decision Tree Output\n",
      "===================="
     ]
    },
    {
     "cell_type": "code",
     "collapsed": false,
     "input": [
      "from sklearn import tree\n",
      "from sklearn.externals.six import StringIO\n",
      "\n",
      "dt = tree.DecisionTreeClassifier()\n",
      "dt = dt.fit(X, matchedData.HHBinaryDeliv)\n",
      "\n",
      "with open(\"decision tree.dot\", 'w') as f:\n",
      "    f = tree.export_graphviz(dt, out_file=f)"
     ],
     "language": "python",
     "metadata": {},
     "outputs": []
    },
    {
     "cell_type": "markdown",
     "metadata": {},
     "source": [
      "In order for this to work:  \n",
      "```$ brew install graphviz```  \n",
      "\n",
      "and then type:  \n",
      "```$ dot -Tpdf 'decision tree.dot' -o 'decision tree.pdf'```  \n",
      "this will take a while, but will convert the file to a PDF"
     ]
    }
   ],
   "metadata": {}
  }
 ]
}