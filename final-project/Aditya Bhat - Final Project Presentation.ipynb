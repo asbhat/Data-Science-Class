{
 "metadata": {
  "name": "",
  "signature": "sha256:6de29e77d34cfced0f09f839ebab38648a1efef6a4816e8951268485184bf3f2"
 },
 "nbformat": 3,
 "nbformat_minor": 0,
 "worksheets": [
  {
   "cells": [
    {
     "cell_type": "code",
     "collapsed": false,
     "input": [
      "import collections\n",
      "import pandas as pd\n",
      "import numpy as np\n",
      "import datetime\n",
      "from ggplot import *\n",
      "%matplotlib inline\n",
      "\n",
      "rawData = pd.read_csv('SpotComparisonDataBlinded.csv')"
     ],
     "language": "python",
     "metadata": {},
     "outputs": []
    },
    {
     "cell_type": "markdown",
     "metadata": {},
     "source": [
      "**Key Variables and Descriptions**\n",
      "* Purchased Units:\n",
      "* Delivered Units:\n"
     ]
    },
    {
     "cell_type": "code",
     "collapsed": false,
     "input": [
      "unmatchedData = rawData[(rawData['Purchased Units'] == 0) | (rawData['Delivered Units'] == 0)].reset_index()"
     ],
     "language": "python",
     "metadata": {},
     "outputs": []
    },
    {
     "cell_type": "code",
     "collapsed": false,
     "input": [
      "spotHistData = unmatchedData[['Operator', 'Purchased Units', 'Delivered Units']].groupby('Operator').sum()\n",
      "providerTotalSpotCounts = rawData[['Operator','Network']].groupby('Operator').count()\n",
      "spotHistData = spotHistData.merge(providerTotalSpotCounts, how='left', left_index=True, right_index=True)\n",
      "spotHistData.rename(columns={'Network': 'Total Spots'}, inplace=True)\n",
      "spotHistData.reset_index(inplace=True)\n",
      "spotHistData['Purchased Units Pct'] = spotHistData['Purchased Units'] / spotHistData['Total Spots']\n",
      "spotHistData['Delivered Units Pct'] = spotHistData['Delivered Units'] / spotHistData['Total Spots']\n",
      "spotHistData['Clearance Score'] = (spotHistData['Delivered Units'] - spotHistData['Purchased Units']) / spotHistData['Total Spots']\n",
      "spotHistData.sort(columns=['Total Spots'], inplace=True, ascending=False)"
     ],
     "language": "python",
     "metadata": {},
     "outputs": []
    },
    {
     "cell_type": "code",
     "collapsed": false,
     "input": [
      "ggplot(spotHistData[spotHistData['Total Spots'] >= 900], aes(x='Operator', weight='Delivered Units Pct')) + geom_bar() + theme(axis_text_x=element_text(angle=90)) + ggtitle('Top Providers - Unmatched Delivered Spot Percentage') + scale_y_continuous(labels='percent')"
     ],
     "language": "python",
     "metadata": {},
     "outputs": []
    },
    {
     "cell_type": "code",
     "collapsed": false,
     "input": [
      "ggplot(spotHistData[spotHistData['Total Spots'] >= 900], aes(x='Operator', weight='Purchased Units Pct')) + geom_bar() + theme(axis_text_x=element_text(angle=90)) + ggtitle('Top Providers - Unmatched Purchased Spot Percentage') + scale_y_continuous(labels='percent')"
     ],
     "language": "python",
     "metadata": {},
     "outputs": []
    }
   ],
   "metadata": {}
  }
 ]
}